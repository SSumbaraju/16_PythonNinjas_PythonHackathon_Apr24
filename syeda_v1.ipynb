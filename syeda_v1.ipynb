{
 "cells": [
  {
   "cell_type": "code",
   "execution_count": 112,
   "id": "d5160366",
   "metadata": {},
   "outputs": [],
   "source": [
    "import pandas as pd\n",
    "import numpy as np\n",
    "import seaborn as sns\n",
    "import matplotlib.pyplot as plt\n",
    "\n",
    "from pywaffle import Waffle\n",
    "import matplotlib.pyplot as plt\n",
    "\n",
    "import math\n",
    "import datetime\n",
    "from datetime import date,datetime\n",
    "from datetime import timedelta\n",
    "import re\n",
    "from matplotlib import colors\n",
    "from matplotlib.ticker import PercentFormatter\n",
    "import missingno as msno\n",
    "\n",
    "import warnings\n",
    "warnings.filterwarnings(\"ignore\")\n",
    "\n"
   ]
  },
  {
   "cell_type": "code",
   "execution_count": 110,
   "id": "fef813b9",
   "metadata": {},
   "outputs": [
    {
     "name": "stdout",
     "output_type": "stream",
     "text": [
      "Requirement already satisfied: pywaffle in /Users/snowreen/anaconda3/lib/python3.10/site-packages (1.1.0)\n",
      "Collecting missingno\n",
      "  Downloading missingno-0.5.2-py3-none-any.whl (8.7 kB)\n",
      "Requirement already satisfied: fontawesomefree in /Users/snowreen/anaconda3/lib/python3.10/site-packages (from pywaffle) (6.5.1)\n",
      "Requirement already satisfied: matplotlib in /Users/snowreen/anaconda3/lib/python3.10/site-packages (from pywaffle) (3.7.0)\n",
      "Requirement already satisfied: scipy in /Users/snowreen/anaconda3/lib/python3.10/site-packages (from missingno) (1.10.0)\n",
      "Requirement already satisfied: numpy in /Users/snowreen/anaconda3/lib/python3.10/site-packages (from missingno) (1.23.5)\n",
      "Requirement already satisfied: seaborn in /Users/snowreen/anaconda3/lib/python3.10/site-packages (from missingno) (0.12.2)\n",
      "Requirement already satisfied: pillow>=6.2.0 in /Users/snowreen/anaconda3/lib/python3.10/site-packages (from matplotlib->pywaffle) (9.4.0)\n",
      "Requirement already satisfied: kiwisolver>=1.0.1 in /Users/snowreen/anaconda3/lib/python3.10/site-packages (from matplotlib->pywaffle) (1.4.4)\n",
      "Requirement already satisfied: packaging>=20.0 in /Users/snowreen/anaconda3/lib/python3.10/site-packages (from matplotlib->pywaffle) (22.0)\n",
      "Requirement already satisfied: contourpy>=1.0.1 in /Users/snowreen/anaconda3/lib/python3.10/site-packages (from matplotlib->pywaffle) (1.0.5)\n",
      "Requirement already satisfied: cycler>=0.10 in /Users/snowreen/anaconda3/lib/python3.10/site-packages (from matplotlib->pywaffle) (0.11.0)\n",
      "Requirement already satisfied: pyparsing>=2.3.1 in /Users/snowreen/anaconda3/lib/python3.10/site-packages (from matplotlib->pywaffle) (3.0.9)\n",
      "Requirement already satisfied: python-dateutil>=2.7 in /Users/snowreen/anaconda3/lib/python3.10/site-packages (from matplotlib->pywaffle) (2.8.2)\n",
      "Requirement already satisfied: fonttools>=4.22.0 in /Users/snowreen/anaconda3/lib/python3.10/site-packages (from matplotlib->pywaffle) (4.25.0)\n",
      "Requirement already satisfied: pandas>=0.25 in /Users/snowreen/anaconda3/lib/python3.10/site-packages (from seaborn->missingno) (1.5.3)\n",
      "Requirement already satisfied: pytz>=2020.1 in /Users/snowreen/anaconda3/lib/python3.10/site-packages (from pandas>=0.25->seaborn->missingno) (2022.7)\n",
      "Requirement already satisfied: six>=1.5 in /Users/snowreen/anaconda3/lib/python3.10/site-packages (from python-dateutil>=2.7->matplotlib->pywaffle) (1.16.0)\n",
      "Installing collected packages: missingno\n",
      "Successfully installed missingno-0.5.2\n",
      "Note: you may need to restart the kernel to use updated packages.\n"
     ]
    }
   ],
   "source": [
    "pip install pywaffle missingno\n"
   ]
  },
  {
   "cell_type": "code",
   "execution_count": 5,
   "id": "afaf20cc",
   "metadata": {},
   "outputs": [],
   "source": [
    "#Reading the Dataset\n",
    "xls = pd.ExcelFile('Cardiac_Outcomes.xlsx')\n",
    "#Reading the Hospitalization_Discharge sheet\n",
    "df_HD = pd.read_excel(xls, 'Hospitalization_Discharge')\n",
    "#Reading the CardiacComplications sheet\n",
    "df_CC = pd.read_excel(xls, 'CardiacComplications')\n",
    "#Reading the Responsivenes sheet\n",
    "df_R= pd.read_excel(xls, 'Responsivenes')\n",
    "#Reading the PatientHistory sheet\n",
    "df_PH = pd.read_excel(xls, 'PatientHistory')\n",
    "#Reading the Labs sheet\n",
    "df_L = pd.read_excel(xls, 'Labs')\n",
    "#Reading the Demography sheet\n",
    "df_D = pd.read_excel(xls, 'Demography')\n",
    "#Reading the Patient_Precriptions sheet\n",
    "df_PP = pd.read_excel(xls, 'Patient_Precriptions')"
   ]
  },
  {
   "cell_type": "markdown",
   "id": "222cedbb",
   "metadata": {},
   "source": [
    "# Q1 How many patients were registered in each unique occupation?"
   ]
  },
  {
   "cell_type": "code",
   "execution_count": 7,
   "id": "4e8de9cb",
   "metadata": {},
   "outputs": [
    {
     "data": {
      "text/plain": [
       "occupation\n",
       "Officer             7\n",
       "Others             89\n",
       "UrbanResident    1670\n",
       "farmer            198\n",
       "worker             17\n",
       "Name: inpatient_number, dtype: int64"
      ]
     },
     "execution_count": 7,
     "metadata": {},
     "output_type": "execute_result"
    }
   ],
   "source": [
    "df_D.groupby([\"occupation\"])[\"inpatient_number\"].count()"
   ]
  },
  {
   "cell_type": "markdown",
   "id": "567ade4c",
   "metadata": {},
   "source": [
    "# Q2 Divide GCS scores into slabs of 5 and count the number of patients under each band of score. Show this as any graph of your choice"
   ]
  },
  {
   "cell_type": "code",
   "execution_count": 70,
   "id": "81ed89ad",
   "metadata": {},
   "outputs": [
    {
     "data": {
      "image/png": "[encoded data removed]",
      "text/plain": [
       "<Figure size 640x480 with 1 Axes>"
      ]
     },
     "metadata": {},
     "output_type": "display_data"
    }
   ],
   "source": [
    "df_gcs = df_R.groupby(['GCS'])['inpatient_number'].count().reset_index()\n",
    "\n",
    "df_gcs_slab = pd.DataFrame({'gcs_group': pd.qcut(df_gcs['inpatient_number'], 5)})\n",
    "\n",
    "ax = sns.countplot(data=df_gcs_slab, x='gcs_group')\n",
    "ax.tick_params(axis='x', labelrotation=90)\n",
    "\n",
    "\n"
   ]
  },
  {
   "cell_type": "markdown",
   "id": "f8e65733",
   "metadata": {},
   "source": [
    "# Q3 Add a calculated column called Discharge date into the Hospitalization_Discharge using the information already available to you\n"
   ]
  },
  {
   "cell_type": "code",
   "execution_count": 78,
   "id": "0020ba91",
   "metadata": {},
   "outputs": [
    {
     "data": {
      "text/html": [
       "<div>\n",
       "<style scoped>\n",
       "    .dataframe tbody tr th:only-of-type {\n",
       "        vertical-align: middle;\n",
       "    }\n",
       "\n",
       "    .dataframe tbody tr th {\n",
       "        vertical-align: top;\n",
       "    }\n",
       "\n",
       "    .dataframe thead th {\n",
       "        text-align: right;\n",
       "    }\n",
       "</style>\n",
       "<table border=\"1\" class=\"dataframe\">\n",
       "  <thead>\n",
       "    <tr style=\"text-align: right;\">\n",
       "      <th></th>\n",
       "      <th>inpatient_number</th>\n",
       "      <th>DestinationDischarge</th>\n",
       "      <th>admission_ward</th>\n",
       "      <th>admission_way</th>\n",
       "      <th>discharge_department</th>\n",
       "      <th>visit_times</th>\n",
       "      <th>respiratory_support</th>\n",
       "      <th>oxygen_inhalation</th>\n",
       "      <th>dischargeDay</th>\n",
       "      <th>Admission_date</th>\n",
       "      <th>...</th>\n",
       "      <th>re_admission_within_28_days</th>\n",
       "      <th>death_within_3_months</th>\n",
       "      <th>re_admission_within_3_months</th>\n",
       "      <th>death_within_6_months</th>\n",
       "      <th>re_admission_within_6_months</th>\n",
       "      <th>time_of_death__days_from_admission</th>\n",
       "      <th>readmission_time_days_from_admission</th>\n",
       "      <th>return_to_emergency_department_within_6_months</th>\n",
       "      <th>time_to_emergency_department_within_6_months</th>\n",
       "      <th>Discharge_date</th>\n",
       "    </tr>\n",
       "  </thead>\n",
       "  <tbody>\n",
       "    <tr>\n",
       "      <th>0</th>\n",
       "      <td>857781</td>\n",
       "      <td>Home</td>\n",
       "      <td>Cardiology</td>\n",
       "      <td>NonEmergency</td>\n",
       "      <td>Cardiology</td>\n",
       "      <td>1</td>\n",
       "      <td>None</td>\n",
       "      <td>OxygenTherapy</td>\n",
       "      <td>11</td>\n",
       "      <td>2017-01-24</td>\n",
       "      <td>...</td>\n",
       "      <td>0</td>\n",
       "      <td>0</td>\n",
       "      <td>0</td>\n",
       "      <td>0</td>\n",
       "      <td>0</td>\n",
       "      <td>NaN</td>\n",
       "      <td>NaN</td>\n",
       "      <td>0.0</td>\n",
       "      <td>NaN</td>\n",
       "      <td>2017-02-04</td>\n",
       "    </tr>\n",
       "    <tr>\n",
       "      <th>1</th>\n",
       "      <td>743087</td>\n",
       "      <td>Home</td>\n",
       "      <td>Cardiology</td>\n",
       "      <td>NonEmergency</td>\n",
       "      <td>Cardiology</td>\n",
       "      <td>1</td>\n",
       "      <td>None</td>\n",
       "      <td>OxygenTherapy</td>\n",
       "      <td>8</td>\n",
       "      <td>2017-05-05</td>\n",
       "      <td>...</td>\n",
       "      <td>0</td>\n",
       "      <td>0</td>\n",
       "      <td>0</td>\n",
       "      <td>0</td>\n",
       "      <td>0</td>\n",
       "      <td>NaN</td>\n",
       "      <td>NaN</td>\n",
       "      <td>0.0</td>\n",
       "      <td>NaN</td>\n",
       "      <td>2017-05-13</td>\n",
       "    </tr>\n",
       "    <tr>\n",
       "      <th>2</th>\n",
       "      <td>866418</td>\n",
       "      <td>Home</td>\n",
       "      <td>Cardiology</td>\n",
       "      <td>NonEmergency</td>\n",
       "      <td>Cardiology</td>\n",
       "      <td>2</td>\n",
       "      <td>None</td>\n",
       "      <td>OxygenTherapy</td>\n",
       "      <td>5</td>\n",
       "      <td>2016-11-18</td>\n",
       "      <td>...</td>\n",
       "      <td>0</td>\n",
       "      <td>0</td>\n",
       "      <td>0</td>\n",
       "      <td>0</td>\n",
       "      <td>0</td>\n",
       "      <td>NaN</td>\n",
       "      <td>NaN</td>\n",
       "      <td>0.0</td>\n",
       "      <td>NaN</td>\n",
       "      <td>2016-11-23</td>\n",
       "    </tr>\n",
       "    <tr>\n",
       "      <th>3</th>\n",
       "      <td>775928</td>\n",
       "      <td>Home</td>\n",
       "      <td>Cardiology</td>\n",
       "      <td>Emergency</td>\n",
       "      <td>Cardiology</td>\n",
       "      <td>1</td>\n",
       "      <td>None</td>\n",
       "      <td>OxygenTherapy</td>\n",
       "      <td>11</td>\n",
       "      <td>2017-10-02</td>\n",
       "      <td>...</td>\n",
       "      <td>1</td>\n",
       "      <td>0</td>\n",
       "      <td>1</td>\n",
       "      <td>0</td>\n",
       "      <td>1</td>\n",
       "      <td>NaN</td>\n",
       "      <td>19.0</td>\n",
       "      <td>1.0</td>\n",
       "      <td>19.0</td>\n",
       "      <td>2017-10-13</td>\n",
       "    </tr>\n",
       "    <tr>\n",
       "      <th>4</th>\n",
       "      <td>810128</td>\n",
       "      <td>Home</td>\n",
       "      <td>Cardiology</td>\n",
       "      <td>NonEmergency</td>\n",
       "      <td>Cardiology</td>\n",
       "      <td>1</td>\n",
       "      <td>None</td>\n",
       "      <td>OxygenTherapy</td>\n",
       "      <td>5</td>\n",
       "      <td>2019-11-17</td>\n",
       "      <td>...</td>\n",
       "      <td>0</td>\n",
       "      <td>0</td>\n",
       "      <td>0</td>\n",
       "      <td>0</td>\n",
       "      <td>0</td>\n",
       "      <td>NaN</td>\n",
       "      <td>NaN</td>\n",
       "      <td>0.0</td>\n",
       "      <td>NaN</td>\n",
       "      <td>2019-11-22</td>\n",
       "    </tr>\n",
       "  </tbody>\n",
       "</table>\n",
       "<p>5 rows × 22 columns</p>\n",
       "</div>"
      ],
      "text/plain": [
       "   inpatient_number DestinationDischarge admission_ward admission_way  \\\n",
       "0            857781                 Home     Cardiology  NonEmergency   \n",
       "1            743087                 Home     Cardiology  NonEmergency   \n",
       "2            866418                 Home     Cardiology  NonEmergency   \n",
       "3            775928                 Home     Cardiology     Emergency   \n",
       "4            810128                 Home     Cardiology  NonEmergency   \n",
       "\n",
       "  discharge_department  visit_times respiratory_support oxygen_inhalation  \\\n",
       "0           Cardiology            1                None     OxygenTherapy   \n",
       "1           Cardiology            1                None     OxygenTherapy   \n",
       "2           Cardiology            2                None     OxygenTherapy   \n",
       "3           Cardiology            1                None     OxygenTherapy   \n",
       "4           Cardiology            1                None     OxygenTherapy   \n",
       "\n",
       "   dischargeDay Admission_date  ... re_admission_within_28_days  \\\n",
       "0            11     2017-01-24  ...                           0   \n",
       "1             8     2017-05-05  ...                           0   \n",
       "2             5     2016-11-18  ...                           0   \n",
       "3            11     2017-10-02  ...                           1   \n",
       "4             5     2019-11-17  ...                           0   \n",
       "\n",
       "   death_within_3_months  re_admission_within_3_months  death_within_6_months  \\\n",
       "0                      0                             0                      0   \n",
       "1                      0                             0                      0   \n",
       "2                      0                             0                      0   \n",
       "3                      0                             1                      0   \n",
       "4                      0                             0                      0   \n",
       "\n",
       "   re_admission_within_6_months  time_of_death__days_from_admission  \\\n",
       "0                             0                                 NaN   \n",
       "1                             0                                 NaN   \n",
       "2                             0                                 NaN   \n",
       "3                             1                                 NaN   \n",
       "4                             0                                 NaN   \n",
       "\n",
       "   readmission_time_days_from_admission  \\\n",
       "0                                   NaN   \n",
       "1                                   NaN   \n",
       "2                                   NaN   \n",
       "3                                  19.0   \n",
       "4                                   NaN   \n",
       "\n",
       "   return_to_emergency_department_within_6_months  \\\n",
       "0                                             0.0   \n",
       "1                                             0.0   \n",
       "2                                             0.0   \n",
       "3                                             1.0   \n",
       "4                                             0.0   \n",
       "\n",
       "   time_to_emergency_department_within_6_months  Discharge_date  \n",
       "0                                           NaN      2017-02-04  \n",
       "1                                           NaN      2017-05-13  \n",
       "2                                           NaN      2016-11-23  \n",
       "3                                          19.0      2017-10-13  \n",
       "4                                           NaN      2019-11-22  \n",
       "\n",
       "[5 rows x 22 columns]"
      ]
     },
     "execution_count": 78,
     "metadata": {},
     "output_type": "execute_result"
    }
   ],
   "source": [
    "df_HD[\"Discharge_date\"] = df_HD[\"Admission_date\"] + pd.to_timedelta(df_HD[\"dischargeDay\"], unit='d')\n",
    "\n",
    "df_HD.head()"
   ]
  },
  {
   "cell_type": "markdown",
   "id": "4f6dad19",
   "metadata": {},
   "source": [
    "# Q4 What percentage of patients had Biventricular heart failure?"
   ]
  },
  {
   "cell_type": "code",
   "execution_count": 94,
   "id": "ad2a986a",
   "metadata": {},
   "outputs": [
    {
     "data": {
      "text/plain": [
       "73.70517928286853"
      ]
     },
     "execution_count": 94,
     "metadata": {},
     "output_type": "execute_result"
    }
   ],
   "source": [
    "df_biventricular = df_CC.loc[df_CC['type_of_heart_failure'] == 'Both']\n",
    "\n",
    "(df_biventricular['inpatient_number'].count() / df_CC['inpatient_number'].count()) * 100\n"
   ]
  },
  {
   "cell_type": "markdown",
   "id": "82b95beb",
   "metadata": {},
   "source": [
    "# Q5 What is the ratio of patients who were responsive to pain vs responsive to sound?"
   ]
  },
  {
   "cell_type": "code",
   "execution_count": 96,
   "id": "adf2c57f",
   "metadata": {},
   "outputs": [
    {
     "data": {
      "text/plain": [
       "0.21052631578947367"
      ]
     },
     "execution_count": 96,
     "metadata": {},
     "output_type": "execute_result"
    }
   ],
   "source": [
    "df_resp_to_pain = df_R.loc[df_R['consciousness'] == 'ResponsiveToPain']\n",
    "df_resp_to_sound = df_R.loc[df_R['consciousness'] == 'ResponsiveToSound']\n",
    "\n",
    "df_resp_to_pain['inpatient_number'].count() / df_resp_to_sound['inpatient_number'].count()"
   ]
  },
  {
   "cell_type": "markdown",
   "id": "8a7e074e",
   "metadata": {},
   "source": [
    "# Q6 What was the average age group of the patients that had an outcome of 'Alive'?"
   ]
  },
  {
   "cell_type": "code",
   "execution_count": 107,
   "id": "e226f2bf",
   "metadata": {},
   "outputs": [
    {
     "data": {
      "text/plain": [
       "ageCat\n",
       "21-29       4\n",
       "29-39      12\n",
       "39-49      53\n",
       "49-59     102\n",
       "59-69     342\n",
       "69-79     678\n",
       "79-89     601\n",
       "89-110     98\n",
       "Name: inpatient_number, dtype: int64"
      ]
     },
     "execution_count": 107,
     "metadata": {},
     "output_type": "execute_result"
    }
   ],
   "source": [
    "df_merged = df_HD.merge(df_D, on=['inpatient_number'])\n",
    "\n",
    "df_merged_alive = df_merged.loc[df_merged['outcome_during_hospitalization'] == 'Alive']\n",
    "\n",
    "df_merged_alive.groupby(['ageCat'])['inpatient_number'].count()\n"
   ]
  },
  {
   "cell_type": "markdown",
   "id": "00dfb512",
   "metadata": {},
   "source": [
    "# Q7 Visualize missing data and missing patterns from Demography table using the \"MissingNo\" Library."
   ]
  },
  {
   "cell_type": "code",
   "execution_count": 117,
   "id": "59d177a7",
   "metadata": {},
   "outputs": [
    {
     "data": {
      "text/plain": [
       "<Axes: >"
      ]
     },
     "execution_count": 117,
     "metadata": {},
     "output_type": "execute_result"
    },
    {
     "data": {
      "image/png": "[encoded data removed]",
      "text/plain": [
       "<Figure size 2500x1000 with 2 Axes>"
      ]
     },
     "metadata": {},
     "output_type": "display_data"
    }
   ],
   "source": [
    "msno.matrix(df_D)"
   ]
  },
  {
   "cell_type": "markdown",
   "id": "6811a5af",
   "metadata": {},
   "source": [
    "# Q8 Create a Waffle chart to show what percentage of total deaths belong to each admission_ward?"
   ]
  },
  {
   "cell_type": "code",
   "execution_count": 41,
   "id": "4cd30158",
   "metadata": {
    "scrolled": true
   },
   "outputs": [
    {
     "name": "stdout",
     "output_type": "stream",
     "text": [
      "11\n"
     ]
    },
    {
     "ename": "KeyError",
     "evalue": "'Columns not found: False, True'",
     "output_type": "error",
     "traceback": [
      "\u001b[0;31m---------------------------------------------------------------------------\u001b[0m",
      "\u001b[0;31mKeyError\u001b[0m                                  Traceback (most recent call last)",
      "Cell \u001b[0;32mIn[41], line 4\u001b[0m\n\u001b[1;32m      1\u001b[0m Count1 \u001b[38;5;241m=\u001b[39m \u001b[38;5;28mlen\u001b[39m(df_HD[df_HD[\u001b[38;5;124m\"\u001b[39m\u001b[38;5;124moutcome_during_hospitalization\u001b[39m\u001b[38;5;124m\"\u001b[39m]\u001b[38;5;241m==\u001b[39m\u001b[38;5;124m\"\u001b[39m\u001b[38;5;124mDead\u001b[39m\u001b[38;5;124m\"\u001b[39m])\n\u001b[1;32m      2\u001b[0m \u001b[38;5;28mprint\u001b[39m (Count1)\n\u001b[0;32m----> 4\u001b[0m \u001b[43mdf_HD\u001b[49m\u001b[38;5;241;43m.\u001b[39;49m\u001b[43mgroupby\u001b[49m\u001b[43m(\u001b[49m\u001b[43m[\u001b[49m\u001b[38;5;124;43m\"\u001b[39;49m\u001b[38;5;124;43madmission_ward\u001b[39;49m\u001b[38;5;124;43m\"\u001b[39;49m\u001b[43m,\u001b[49m\u001b[43m \u001b[49m\u001b[38;5;124;43m\"\u001b[39;49m\u001b[38;5;124;43moutcome_during_hospitalization\u001b[39;49m\u001b[38;5;124;43m\"\u001b[39;49m\u001b[43m \u001b[49m\u001b[43m]\u001b[49m\u001b[43m)\u001b[49m\u001b[43m[\u001b[49m\u001b[43mdf_HD\u001b[49m\u001b[43m[\u001b[49m\u001b[38;5;124;43m\"\u001b[39;49m\u001b[38;5;124;43moutcome_during_hospitalization\u001b[39;49m\u001b[38;5;124;43m\"\u001b[39;49m\u001b[43m]\u001b[49m\u001b[38;5;241;43m==\u001b[39;49m\u001b[38;5;124;43m\"\u001b[39;49m\u001b[38;5;124;43mDead\u001b[39;49m\u001b[38;5;124;43m\"\u001b[39;49m\u001b[43m]\u001b[49m\u001b[38;5;241m.\u001b[39mcount()\n",
      "File \u001b[0;32m~/anaconda3/lib/python3.10/site-packages/pandas/core/groupby/generic.py:1416\u001b[0m, in \u001b[0;36mDataFrameGroupBy.__getitem__\u001b[0;34m(self, key)\u001b[0m\n\u001b[1;32m   1407\u001b[0m \u001b[38;5;28;01mif\u001b[39;00m \u001b[38;5;28misinstance\u001b[39m(key, \u001b[38;5;28mtuple\u001b[39m) \u001b[38;5;129;01mand\u001b[39;00m \u001b[38;5;28mlen\u001b[39m(key) \u001b[38;5;241m>\u001b[39m \u001b[38;5;241m1\u001b[39m:\n\u001b[1;32m   1408\u001b[0m     \u001b[38;5;66;03m# if len == 1, then it becomes a SeriesGroupBy and this is actually\u001b[39;00m\n\u001b[1;32m   1409\u001b[0m     \u001b[38;5;66;03m# valid syntax, so don't raise warning\u001b[39;00m\n\u001b[1;32m   1410\u001b[0m     warnings\u001b[38;5;241m.\u001b[39mwarn(\n\u001b[1;32m   1411\u001b[0m         \u001b[38;5;124m\"\u001b[39m\u001b[38;5;124mIndexing with multiple keys (implicitly converted to a tuple \u001b[39m\u001b[38;5;124m\"\u001b[39m\n\u001b[1;32m   1412\u001b[0m         \u001b[38;5;124m\"\u001b[39m\u001b[38;5;124mof keys) will be deprecated, use a list instead.\u001b[39m\u001b[38;5;124m\"\u001b[39m,\n\u001b[1;32m   1413\u001b[0m         \u001b[38;5;167;01mFutureWarning\u001b[39;00m,\n\u001b[1;32m   1414\u001b[0m         stacklevel\u001b[38;5;241m=\u001b[39mfind_stack_level(),\n\u001b[1;32m   1415\u001b[0m     )\n\u001b[0;32m-> 1416\u001b[0m \u001b[38;5;28;01mreturn\u001b[39;00m \u001b[38;5;28;43msuper\u001b[39;49m\u001b[43m(\u001b[49m\u001b[43m)\u001b[49m\u001b[38;5;241;43m.\u001b[39;49m\u001b[38;5;21;43m__getitem__\u001b[39;49m\u001b[43m(\u001b[49m\u001b[43mkey\u001b[49m\u001b[43m)\u001b[49m\n",
      "File \u001b[0;32m~/anaconda3/lib/python3.10/site-packages/pandas/core/base.py:238\u001b[0m, in \u001b[0;36mSelectionMixin.__getitem__\u001b[0;34m(self, key)\u001b[0m\n\u001b[1;32m    236\u001b[0m     \u001b[38;5;28;01mif\u001b[39;00m \u001b[38;5;28mlen\u001b[39m(\u001b[38;5;28mself\u001b[39m\u001b[38;5;241m.\u001b[39mobj\u001b[38;5;241m.\u001b[39mcolumns\u001b[38;5;241m.\u001b[39mintersection(key)) \u001b[38;5;241m!=\u001b[39m \u001b[38;5;28mlen\u001b[39m(\u001b[38;5;28mset\u001b[39m(key)):\n\u001b[1;32m    237\u001b[0m         bad_keys \u001b[38;5;241m=\u001b[39m \u001b[38;5;28mlist\u001b[39m(\u001b[38;5;28mset\u001b[39m(key)\u001b[38;5;241m.\u001b[39mdifference(\u001b[38;5;28mself\u001b[39m\u001b[38;5;241m.\u001b[39mobj\u001b[38;5;241m.\u001b[39mcolumns))\n\u001b[0;32m--> 238\u001b[0m         \u001b[38;5;28;01mraise\u001b[39;00m \u001b[38;5;167;01mKeyError\u001b[39;00m(\u001b[38;5;124mf\u001b[39m\u001b[38;5;124m\"\u001b[39m\u001b[38;5;124mColumns not found: \u001b[39m\u001b[38;5;132;01m{\u001b[39;00m\u001b[38;5;28mstr\u001b[39m(bad_keys)[\u001b[38;5;241m1\u001b[39m:\u001b[38;5;241m-\u001b[39m\u001b[38;5;241m1\u001b[39m]\u001b[38;5;132;01m}\u001b[39;00m\u001b[38;5;124m\"\u001b[39m)\n\u001b[1;32m    239\u001b[0m     \u001b[38;5;28;01mreturn\u001b[39;00m \u001b[38;5;28mself\u001b[39m\u001b[38;5;241m.\u001b[39m_gotitem(\u001b[38;5;28mlist\u001b[39m(key), ndim\u001b[38;5;241m=\u001b[39m\u001b[38;5;241m2\u001b[39m)\n\u001b[1;32m    241\u001b[0m \u001b[38;5;28;01melif\u001b[39;00m \u001b[38;5;129;01mnot\u001b[39;00m \u001b[38;5;28mgetattr\u001b[39m(\u001b[38;5;28mself\u001b[39m, \u001b[38;5;124m\"\u001b[39m\u001b[38;5;124mas_index\u001b[39m\u001b[38;5;124m\"\u001b[39m, \u001b[38;5;28;01mFalse\u001b[39;00m):\n",
      "\u001b[0;31mKeyError\u001b[0m: 'Columns not found: False, True'"
     ]
    }
   ],
   "source": [
    "Count1 = len(df_HD[df_HD[\"outcome_during_hospitalization\"]==\"Dead\"])\n",
    "print (Count1)\n",
    "\n",
    "df_HD.groupby([\"admission_ward\", \"outcome_during_hospitalization\" ])[df_HD[\"outcome_during_hospitalization\"]==\"Dead\"].count()\n",
    "\n",
    "\n",
    "\n"
   ]
  },
  {
   "cell_type": "markdown",
   "id": "6358e73a",
   "metadata": {},
   "source": [
    "# Q9 Create any 2 2-D arrays and perform matrix multiplication. Display the resulting array."
   ]
  },
  {
   "cell_type": "markdown",
   "id": "53858d3d",
   "metadata": {},
   "source": [
    "\n",
    "# Q 10Display the percentage of missing values in each column in the table labs. Show the distribution as a bar graph"
   ]
  },
  {
   "cell_type": "markdown",
   "id": "9e90f78b",
   "metadata": {},
   "source": [
    "# Q11 A valid mobile number is a ten digit number starting with a 7,8 or 9. For every string listed, print \"YES\" if it is a valid mobile number and \"NO\" if it is not on separate lines. Do not print the quotes.\n",
    "{2,9587456281,1252478965,7397260044}\n"
   ]
  },
  {
   "cell_type": "markdown",
   "id": "34859a3f",
   "metadata": {},
   "source": [
    "# Q12 If left ventricular end diastolic diameter has a normal range: 3.5 - 5.6 cm, how many patients fall outside that limit and what is the MAP of most patients with this condition?"
   ]
  },
  {
   "cell_type": "markdown",
   "id": "d4251ff1",
   "metadata": {},
   "source": [
    "# Q13Create a bar chart between lengthofstay and body temperature, classified as: Hypothermia, within range or hyperthermia"
   ]
  },
  {
   "cell_type": "code",
   "execution_count": null,
   "id": "30f5de32",
   "metadata": {},
   "outputs": [],
   "source": []
  },
  {
   "cell_type": "markdown",
   "id": "7befa3b7",
   "metadata": {},
   "source": [
    "# Q14 Find the list of patients whose DischargeDay is greater than the value given by the user"
   ]
  },
  {
   "cell_type": "markdown",
   "id": "0ab40db3",
   "metadata": {},
   "source": [
    "# Q15 Display a pie chart of number of patients in each category listed"
   ]
  },
  {
   "cell_type": "code",
   "execution_count": 47,
   "id": "8f56a338",
   "metadata": {},
   "outputs": [
    {
     "name": "stdout",
     "output_type": "stream",
     "text": [
      "37\n"
     ]
    }
   ],
   "source": [
    "Count1 = len(df_HD[df_HD[\"death_within_28_days\"]== 1])\n",
    "print (Count1)\n",
    "\n"
   ]
  },
  {
   "cell_type": "code",
   "execution_count": null,
   "id": "ee35e1a9",
   "metadata": {},
   "outputs": [],
   "source": []
  },
  {
   "cell_type": "code",
   "execution_count": null,
   "id": "b3721431",
   "metadata": {},
   "outputs": [],
   "source": []
  }
 ],
 "metadata": {
  "kernelspec": {
   "display_name": "Python 3 (ipykernel)",
   "language": "python",
   "name": "python3"
  },
  "language_info": {
   "codemirror_mode": {
    "name": "ipython",
    "version": 3
   },
   "file_extension": ".py",
   "mimetype": "text/x-python",
   "name": "python",
   "nbconvert_exporter": "python",
   "pygments_lexer": "ipython3",
   "version": "3.11.7"
  }
 },
 "nbformat": 4,
 "nbformat_minor": 5
}
