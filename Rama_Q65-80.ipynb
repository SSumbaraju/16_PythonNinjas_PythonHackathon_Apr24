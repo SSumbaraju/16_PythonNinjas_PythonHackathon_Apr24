{
 "cells": [
  {
   "cell_type": "code",
   "execution_count": 7,
   "id": "a3ba915b-0d31-47e8-8f23-e76e2da1c9b7",
   "metadata": {},
   "outputs": [],
   "source": [
    "import pandas as pd\n",
    "import numpy as np\n",
    "import seaborn as sns\n",
    "import matplotlib.pyplot as plt\n",
    "import math\n",
    "import datetime\n",
    "from datetime import date,datetime\n",
    "import re\n",
    "from matplotlib import colors\n",
    "from matplotlib.ticker import PercentFormatter\n",
    "\n",
    "import warnings\n",
    "warnings.filterwarnings(\"ignore\")"
   ]
  },
  {
   "cell_type": "code",
   "execution_count": 8,
   "id": "60e1dd52-a1ff-49f7-9039-4d3208787b13",
   "metadata": {},
   "outputs": [],
   "source": [
    "#Reading the Dataset\n",
    "xls = pd.ExcelFile('Cardiac_Outcomes.xlsx')\n",
    "#Reading the Hospitalization_Discharge sheet\n",
    "df_HD = pd.read_excel(xls, 'Hospitalization_Discharge')\n",
    "#Reading the CardiacComplications sheet\n",
    "df_CC = pd.read_excel(xls, 'CardiacComplications')\n",
    "#Reading the Responsivenes sheet\n",
    "df_R= pd.read_excel(xls, 'Responsivenes')\n",
    "#Reading the PatientHistory sheet\n",
    "df_PH = pd.read_excel(xls, 'PatientHistory')\n",
    "#Reading the Labs sheet\n",
    "df_L = pd.read_excel(xls, 'Labs')\n",
    "#Reading the Demography sheet\n",
    "df_D = pd.read_excel(xls, 'Demography')\n",
    "#Reading the Patient_Precriptions sheet\n",
    "df_PP = pd.read_excel(xls, 'Patient_Precriptions')"
   ]
  },
  {
   "cell_type": "markdown",
   "id": "efc17511-f7b6-45ca-96b7-a6e574f7c1d4",
   "metadata": {},
   "source": [
    "## Q65. Which Admission Ward has maximum number of visits scheduled?"
   ]
  },
  {
   "cell_type": "code",
   "execution_count": 5,
   "id": "919d3a7a-4914-40d8-a255-3da047994638",
   "metadata": {},
   "outputs": [
    {
     "name": "stdout",
     "output_type": "stream",
     "text": [
      "The ward with maximum admission visits:  Cardiology 1547\n"
     ]
    }
   ],
   "source": [
    "visits = df_HD['admission_ward'].value_counts()\n",
    "print(\"The ward with maximum admission visits: \", visits.idxmax(), visits.max())"
   ]
  },
  {
   "cell_type": "markdown",
   "id": "609a6008-8f9f-49ac-a4f8-854d1d9eb006",
   "metadata": {},
   "source": [
    "## Q66. Display total count of patients in each discharge_department based on gender?"
   ]
  },
  {
   "cell_type": "code",
   "execution_count": 6,
   "id": "b9d11761-b21a-44dd-a409-b02538a26f7a",
   "metadata": {},
   "outputs": [
    {
     "name": "stdout",
     "output_type": "stream",
     "text": [
      "discharge_department  gender\n",
      "Cardiology            Female    993\n",
      "                      Male      710\n",
      "GeneralWard           Female    137\n",
      "                      Male      104\n",
      "Others                Female     28\n",
      "                      Male       24\n",
      "ICU                   Male        7\n",
      "                      Female      5\n",
      "Name: count, dtype: int64\n"
     ]
    }
   ],
   "source": [
    "# first, merged the Hospitalization_discharge and Demography sheets merged to get the discharge_department and gender\n",
    "# then extract the desired columns data\n",
    "\n",
    "join_hosdischarge_demography  = pd.merge(df_HD, df_D, on= 'inpatient_number', how = 'inner')\n",
    "#print(join_hosdischarge_demography )\n",
    "\n",
    "patients_by_gender = pd.DataFrame(join_hosdischarge_demography,columns =['discharge_department', 'gender']).value_counts()\n",
    "print(patients_by_gender)"
   ]
  },
  {
   "cell_type": "markdown",
   "id": "5d0c9697-1c95-4a32-8c2d-c3e8c46131ff",
   "metadata": {},
   "source": [
    "## Q67. How many Unique patients were precribed each type of medication?"
   ]
  },
  {
   "cell_type": "code",
   "execution_count": 155,
   "id": "fb5dd804-af54-404f-876d-476fe9449e2e",
   "metadata": {},
   "outputs": [
    {
     "name": "stdout",
     "output_type": "stream",
     "text": [
      "25\n",
      "inpatient_number\n",
      "123456     4\n",
      "678910     4\n",
      "722128     7\n",
      "723327    12\n",
      "723617     4\n",
      "          ..\n",
      "870258     8\n",
      "870646     6\n",
      "879601    13\n",
      "905163    11\n",
      "905720     9\n",
      "Name: Drug_name, Length: 2009, dtype: int64\n",
      "[]\n"
     ]
    }
   ],
   "source": [
    "\n",
    "patient_prescription=pd.DataFrame(df_PP)\n",
    "drug_name=df.Drug_name.unique()\n",
    "print(len(drug_name))\n",
    "unique_patient=df.groupby('inpatient_number')['Drug_name'].nunique()\n",
    "print(unique_patient)\n",
    "result = unique_patient[unique_patient == patient_prescription['Drug_name'].nunique()].index.tolist()\n",
    "print(result)"
   ]
  },
  {
   "attachments": {},
   "cell_type": "markdown",
   "id": "cac5f218-4971-4263-8983-0d241135bbfe",
   "metadata": {},
   "source": [
    "## Q68. Find 5 patients with the highest Discharge days greater than 20. List their most common outcome"
   ]
  },
  {
   "cell_type": "code",
   "execution_count": 96,
   "id": "52540aee-4293-4249-9f34-ec42dc494e1c",
   "metadata": {},
   "outputs": [
    {
     "name": "stdout",
     "output_type": "stream",
     "text": [
      "      inpatient_number  dischargeDay outcome_during_hospitalization\n",
      "884             794077           123                          Alive\n",
      "1613            768711           118                          Alive\n",
      "1548            791880            88                          Alive\n",
      "1573            794784            82                          Alive\n",
      "1513            757711            76                          Alive\n"
     ]
    }
   ],
   "source": [
    "# first got the data with discharge days greater than 20 days. Then by using 'nlargest' got the highest discharge days patients.\n",
    "discharge_day = df_HD[df_HD['dischargeDay'] > 20]\n",
    "discharge_day_new =discharge_day[['inpatient_number','dischargeDay','outcome_during_hospitalization']]\n",
    "\n",
    "print(discharge_day_new.nlargest(5, 'dischargeDay'))\n"
   ]
  },
  {
   "cell_type": "markdown",
   "id": "caa092de-622a-4916-961f-d91ab3577582",
   "metadata": {},
   "source": [
    "## Q69. Get the list of patient ID's which are not there in prescriptions but in demographics?"
   ]
  },
  {
   "cell_type": "code",
   "execution_count": 26,
   "id": "25c17ab4-4b84-4759-8574-25582292ee12",
   "metadata": {},
   "outputs": [
    {
     "data": {
      "text/plain": [
       "array([789308], dtype=int64)"
      ]
     },
     "execution_count": 26,
     "metadata": {},
     "output_type": "execute_result"
    }
   ],
   "source": [
    "#intersection: inpatient number in both sheets Patient prescricptions and list Demographics\n",
    "np.intersect1d(df_PP['inpatient_number'], df_D['inpatient_number'])\n",
    "\n",
    "#union of two lists\n",
    "np.union1d(df_PP['inpatient_number'], df_D['inpatient_number'])\n",
    "\n",
    "#only in list Patient prescricptions\n",
    "np.setdiff1d(df_PP['inpatient_number'], df_D['inpatient_number'])\n",
    "\n",
    "#only in list list Demographics\n",
    "np.setdiff1d(df_D['inpatient_number'], df_PP['inpatient_number'])\n"
   ]
  },
  {
   "cell_type": "markdown",
   "id": "976b0432-d7cf-4212-bdbd-1f4099abdadd",
   "metadata": {},
   "source": [
    "## Q70. On average, what is the most frequent weekday of admission?"
   ]
  },
  {
   "cell_type": "code",
   "execution_count": 62,
   "id": "6ceb5711-8f3a-4623-bfbe-2595ffea0946",
   "metadata": {},
   "outputs": [
    {
     "name": "stdout",
     "output_type": "stream",
     "text": [
      "Most frequent weekday of admission:  day_of_week\n",
      "Monday    308\n",
      "Name: count, dtype: int64\n"
     ]
    }
   ],
   "source": [
    "# Create a date range\n",
    "range_of_dates = pd.date_range(start ='2016-01-01', end = '2019-12-31')\n",
    "\n",
    "#create a dataframe with the dates\n",
    "weekday = pd.DataFrame(df_HD, columns = ['Admission_date'])\n",
    "\n",
    "# add a column with the day of the week\n",
    "weekday['day_of_week'] = weekday['Admission_date'].dt.dayofweek\n",
    "\n",
    "#map the day of the week number to its name\n",
    "weekday['day_of_week'] = weekday['day_of_week'].map({\n",
    "    0: 'Monday',\n",
    "    1: 'Tuesday',\n",
    "    2: 'Wednesday',\n",
    "    3: 'Thursday',\n",
    "    4: 'Friday',\n",
    "  })\n",
    "\n",
    "print(\"Most frequent weekday of admission: \", weekday['day_of_week'].value_counts().nlargest(1))"
   ]
  },
  {
   "cell_type": "markdown",
   "id": "6aeffa22-1ba2-405b-848d-e63c15cc275f",
   "metadata": {},
   "source": [
    "## Q71. Which year had the maximum admissions?"
   ]
  },
  {
   "cell_type": "code",
   "execution_count": 59,
   "id": "8cc6bc4c-4e68-446e-b991-2eb97704cb82",
   "metadata": {},
   "outputs": [
    {
     "name": "stdout",
     "output_type": "stream",
     "text": [
      "Maximum admissions year: 2019\n"
     ]
    }
   ],
   "source": [
    "range_of_dates = pd.Series(pd.date_range(start ='2016-01-01', end = '2019-12-31'))\n",
    "print(\"Maximum admissions year:\" ,range_of_dates.dt.year.max())\n"
   ]
  },
  {
   "cell_type": "markdown",
   "id": "4c099e6c-a993-487b-8e24-804ec720309a",
   "metadata": {},
   "source": [
    "## Q72. What % of the dataset is male vs female? "
   ]
  },
  {
   "cell_type": "code",
   "execution_count": null,
   "id": "ac5d7f7c-51b0-4091-8369-82d4f6bdd489",
   "metadata": {},
   "outputs": [],
   "source": []
  },
  {
   "cell_type": "markdown",
   "id": "b488e2d0-6738-4f30-bedb-4181b0fb5b7b",
   "metadata": {},
   "source": [
    "## Q73. Which patient in the youngest age category weighs the most?"
   ]
  },
  {
   "cell_type": "code",
   "execution_count": null,
   "id": "4a7b789c-d660-444c-a2ff-5f33740e8b6b",
   "metadata": {},
   "outputs": [],
   "source": []
  },
  {
   "cell_type": "markdown",
   "id": "04668f93-fc7f-4e58-a10a-4df60328155b",
   "metadata": {},
   "source": [
    "## Q74.Which adm ward had the lowest rate of Outcome Death?"
   ]
  },
  {
   "cell_type": "code",
   "execution_count": 146,
   "id": "6094a699-ebf1-472d-ad83-c5abece71551",
   "metadata": {},
   "outputs": [
    {
     "name": "stdout",
     "output_type": "stream",
     "text": [
      "admission_ward  outcome_during_hospitalization\n",
      "GeneralWard     Dead                              1\n",
      "ICU             Dead                              1\n",
      "Others          Dead                              1\n",
      "Name: count, dtype: int64\n"
     ]
    }
   ],
   "source": [
    "admission_outcome = pd.DataFrame(df_HD, columns = ['admission_ward', 'outcome_during_hospitalization'] )\n",
    "\n",
    "outcome_deadonly= (admission_outcome.loc[admission_outcome['outcome_during_hospitalization']=='Dead'])\n",
    "\n",
    "print(outcome_deadonly.value_counts().nsmallest(1, 'all'))\n"
   ]
  },
  {
   "cell_type": "code",
   "execution_count": null,
   "id": "3e59b9f8-4aa7-426d-af1d-039f955ad3d2",
   "metadata": {},
   "outputs": [],
   "source": []
  },
  {
   "cell_type": "code",
   "execution_count": null,
   "id": "9ec38b31-9f17-43c6-bd91-4d8af7a96604",
   "metadata": {},
   "outputs": [],
   "source": []
  }
 ],
 "metadata": {
  "kernelspec": {
   "display_name": "Python 3 (ipykernel)",
   "language": "python",
   "name": "python3"
  },
  "language_info": {
   "codemirror_mode": {
    "name": "ipython",
    "version": 3
   },
   "file_extension": ".py",
   "mimetype": "text/x-python",
   "name": "python",
   "nbconvert_exporter": "python",
   "pygments_lexer": "ipython3",
   "version": "3.11.7"
  }
 },
 "nbformat": 4,
 "nbformat_minor": 5
}
