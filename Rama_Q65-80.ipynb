{
 "cells": [
  {
   "cell_type": "code",
   "execution_count": 1,
   "id": "a3ba915b-0d31-47e8-8f23-e76e2da1c9b7",
   "metadata": {},
   "outputs": [],
   "source": [
    "import pandas as pd\n",
    "import numpy as np\n",
    "import seaborn as sns\n",
    "import matplotlib.pyplot as plt\n",
    "import math\n",
    "import datetime\n",
    "from datetime import date,datetime\n",
    "import re\n",
    "from matplotlib import colors\n",
    "from matplotlib.ticker import PercentFormatter\n",
    "\n",
    "import warnings\n",
    "warnings.filterwarnings(\"ignore\")"
   ]
  },
  {
   "cell_type": "code",
   "execution_count": 4,
   "id": "60e1dd52-a1ff-49f7-9039-4d3208787b13",
   "metadata": {},
   "outputs": [],
   "source": [
    "#Reading the Dataset\n",
    "xls = pd.ExcelFile('Cardiac_Outcomes.xlsx')\n",
    "#Reading the Hospitalization_Discharge sheet\n",
    "df_HD = pd.read_excel(xls, 'Hospitalization_Discharge')\n",
    "#Reading the CardiacComplications sheet\n",
    "df_CC = pd.read_excel(xls, 'CardiacComplications')\n",
    "#Reading the Responsivenes sheet\n",
    "df_R= pd.read_excel(xls, 'Responsivenes')\n",
    "#Reading the PatientHistory sheet\n",
    "df_PH = pd.read_excel(xls, 'PatientHistory')\n",
    "#Reading the Labs sheet\n",
    "df_L = pd.read_excel(xls, 'Labs')\n",
    "#Reading the Demography sheet\n",
    "df_D = pd.read_excel(xls, 'Demography')\n",
    "#Reading the Patient_Precriptions sheet\n",
    "df_PP = pd.read_excel(xls, 'Patient_Precriptions')"
   ]
  },
  {
   "cell_type": "markdown",
   "id": "efc17511-f7b6-45ca-96b7-a6e574f7c1d4",
   "metadata": {},
   "source": [
    "## Q65. Which Admission Ward has maximum number of visits scheduled?"
   ]
  },
  {
   "cell_type": "code",
   "execution_count": 5,
   "id": "919d3a7a-4914-40d8-a255-3da047994638",
   "metadata": {},
   "outputs": [
    {
     "name": "stdout",
     "output_type": "stream",
     "text": [
      "The ward with maximum admission visits:  Cardiology 1547\n"
     ]
    }
   ],
   "source": [
    "visits = df_HD['admission_ward'].value_counts()\n",
    "print(\"The ward with maximum admission visits: \", visits.idxmax(), visits.max())"
   ]
  },
  {
   "cell_type": "markdown",
   "id": "609a6008-8f9f-49ac-a4f8-854d1d9eb006",
   "metadata": {},
   "source": [
    "## Q66. Display total count of patients in each discharge_department based on gender?"
   ]
  },
  {
   "cell_type": "code",
   "execution_count": 6,
   "id": "b9d11761-b21a-44dd-a409-b02538a26f7a",
   "metadata": {},
   "outputs": [
    {
     "name": "stdout",
     "output_type": "stream",
     "text": [
      "discharge_department  gender\n",
      "Cardiology            Female    993\n",
      "                      Male      710\n",
      "GeneralWard           Female    137\n",
      "                      Male      104\n",
      "Others                Female     28\n",
      "                      Male       24\n",
      "ICU                   Male        7\n",
      "                      Female      5\n",
      "Name: count, dtype: int64\n"
     ]
    }
   ],
   "source": [
    "# first, merged the Hospitalization_discharge and Demography sheets merged to get the discharge_department and gender\n",
    "# then extract the desired columns data\n",
    "\n",
    "join_hosdischarge_demography  = pd.merge(df_HD, df_D, on= 'inpatient_number', how = 'inner')\n",
    "#print(join_hosdischarge_demography )\n",
    "\n",
    "patients_by_gender = pd.DataFrame(join_hosdischarge_demography,columns =['discharge_department', 'gender']).value_counts()\n",
    "print(patients_by_gender)"
   ]
  },
  {
   "cell_type": "markdown",
   "id": "5d0c9697-1c95-4a32-8c2d-c3e8c46131ff",
   "metadata": {},
   "source": [
    "## Q67. How many Unique patients were precribed each type of medication?"
   ]
  },
  {
   "cell_type": "code",
   "execution_count": 49,
   "id": "fb5dd804-af54-404f-876d-476fe9449e2e",
   "metadata": {},
   "outputs": [
    {
     "name": "stdout",
     "output_type": "stream",
     "text": [
      "25\n",
      "inpatient_number\n",
      "123456     4\n",
      "678910     4\n",
      "722128     7\n",
      "723327    12\n",
      "723617     4\n",
      "          ..\n",
      "870258     8\n",
      "870646     6\n",
      "879601    13\n",
      "905163    11\n",
      "905720     9\n",
      "Name: Drug_name, Length: 2009, dtype: int64\n",
      "[]\n"
     ]
    }
   ],
   "source": [
    "#pd.DataFrame(df_PP, columns = ['inpatient_number', 'Drug_name']).value_counts()\n",
    "df=pd.DataFrame(df_PP)\n",
    "du=df.Drug_name.unique()\n",
    "print(len(du))\n",
    "dl=df.groupby('inpatient_number')['Drug_name'].nunique()\n",
    "print(dl)\n",
    "result = dl[dl == df['Drug_name'].nunique()].index.tolist()\n",
    "print(result)"
   ]
  },
  {
   "attachments": {},
   "cell_type": "markdown",
   "id": "cac5f218-4971-4263-8983-0d241135bbfe",
   "metadata": {},
   "source": [
    "## Q68. Find 5 patients with the highest Discharge days greater than 20. List their most common outcome"
   ]
  },
  {
   "cell_type": "code",
   "execution_count": 96,
   "id": "52540aee-4293-4249-9f34-ec42dc494e1c",
   "metadata": {},
   "outputs": [
    {
     "name": "stdout",
     "output_type": "stream",
     "text": [
      "      inpatient_number  dischargeDay outcome_during_hospitalization\n",
      "884             794077           123                          Alive\n",
      "1613            768711           118                          Alive\n",
      "1548            791880            88                          Alive\n",
      "1573            794784            82                          Alive\n",
      "1513            757711            76                          Alive\n"
     ]
    }
   ],
   "source": [
    "#df.groupby('Amazon Ratings').get_group(4.2) #['Title'],['Author']\n",
    "#df[df['col_1'] > 100]\n",
    "discharge_day = df_HD[df_HD['dischargeDay'] > 20]\n",
    "discharge_day_new =discharge_day[['inpatient_number','dischargeDay','outcome_during_hospitalization']]\n",
    "\n",
    "print(discharge_day_new.nlargest(5, 'dischargeDay'))\n"
   ]
  },
  {
   "cell_type": "code",
   "execution_count": null,
   "id": "02fa4278-bd94-4513-821f-2266d2fe8ca8",
   "metadata": {},
   "outputs": [],
   "source": []
  },
  {
   "cell_type": "code",
   "execution_count": null,
   "id": "c714aee1-a239-49e2-865d-11ae8e945605",
   "metadata": {},
   "outputs": [],
   "source": []
  },
  {
   "cell_type": "markdown",
   "id": "caa092de-622a-4916-961f-d91ab3577582",
   "metadata": {},
   "source": [
    "## Q69. Get the list of patient ID's which are not there in prescriptions but in demographics?"
   ]
  },
  {
   "cell_type": "code",
   "execution_count": null,
   "id": "25c17ab4-4b84-4759-8574-25582292ee12",
   "metadata": {},
   "outputs": [],
   "source": []
  },
  {
   "cell_type": "code",
   "execution_count": null,
   "id": "a6e5ee32-3def-4001-82a6-1c237d20e360",
   "metadata": {},
   "outputs": [],
   "source": []
  },
  {
   "cell_type": "code",
   "execution_count": null,
   "id": "6ceb5711-8f3a-4623-bfbe-2595ffea0946",
   "metadata": {},
   "outputs": [],
   "source": []
  },
  {
   "cell_type": "code",
   "execution_count": null,
   "id": "d5d381a1-c7f1-4027-a76e-ad95409abe5b",
   "metadata": {},
   "outputs": [],
   "source": []
  }
 ],
 "metadata": {
  "kernelspec": {
   "display_name": "Python 3 (ipykernel)",
   "language": "python",
   "name": "python3"
  },
  "language_info": {
   "codemirror_mode": {
    "name": "ipython",
    "version": 3
   },
   "file_extension": ".py",
   "mimetype": "text/x-python",
   "name": "python",
   "nbconvert_exporter": "python",
   "pygments_lexer": "ipython3",
   "version": "3.11.7"
  }
 },
 "nbformat": 4,
 "nbformat_minor": 5
}
