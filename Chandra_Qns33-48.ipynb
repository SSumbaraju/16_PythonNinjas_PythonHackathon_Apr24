{
 "cells": [
  {
   "cell_type": "code",
   "execution_count": 1,
   "id": "15772059-221d-4372-bb56-0e4da2db1950",
   "metadata": {},
   "outputs": [],
   "source": [
    "import pandas as pd\n",
    "import numpy as np\n",
    "import seaborn as sns\n",
    "import matplotlib.pyplot as plt\n",
    "import math\n",
    "import datetime \n",
    "import re"
   ]
  },
  {
   "cell_type": "code",
   "execution_count": 2,
   "id": "c18b7b48-2602-48d8-9c0b-144d6f360579",
   "metadata": {},
   "outputs": [],
   "source": [
    "# reading the dataset cardiac outcomesb\n",
    "df_HD = pd.read_excel(\"Cardiac_Outcomes.xlsx\",sheet_name='Hospitalization_Discharge')\n",
    "df_CC = pd.read_excel(\"Cardiac_Outcomes.xlsx\",sheet_name='CardiacComplications')\n",
    "df_Res = pd.read_excel(\"Cardiac_Outcomes.xlsx\",sheet_name = 'Responsivenes')\n",
    "df_PHis =pd.read_excel(\"Cardiac_Outcomes.xlsx\",sheet_name = 'PatientHistory')\n",
    "df_labs = pd.read_excel(\"Cardiac_Outcomes.xlsx\",sheet_name = 'Labs')\n",
    "df_demo = pd.read_excel(\"Cardiac_Outcomes.xlsx\", sheet_name = 'Demography')\n",
    "df_PP = pd.read_excel(\"Cardiac_Outcomes.xlsx\", sheet_name = 'Patient_Precriptions')"
   ]
  },
  {
   "cell_type": "code",
   "execution_count": 3,
   "id": "aa165998-7582-41f5-ad0a-d85d04c79bec",
   "metadata": {},
   "outputs": [
    {
     "name": "stdout",
     "output_type": "stream",
     "text": [
      "1.66\n",
      "     inpatient_number  body_temperature  pulse  respiration  \\\n",
      "865            746068              37.1     71           20   \n",
      "\n",
      "     systolic_blood_pressure  diastolic_blood_pressure    map  fio2  \\\n",
      "865                      130                        88  102.0    21   \n",
      "\n",
      "     creatinine_enzymatic_method  urea  ...  measured_residual_base  \\\n",
      "865                         88.8  7.26  ...                    -2.6   \n",
      "\n",
      "     measured_bicarbonate  carboxyhemoglobin  body_temperature_blood_gas  \\\n",
      "865                  21.6                0.3                        37.0   \n",
      "\n",
      "     oxygen_saturation  partial_oxygen_pressure  oxyhemoglobin  anion_gap  \\\n",
      "865               97.0                     95.0           96.3       16.8   \n",
      "\n",
      "     free_calcium  total_hemoglobin  \n",
      "865          1.11              94.0  \n",
      "\n",
      "[1 rows x 107 columns]\n"
     ]
    }
   ],
   "source": [
    "#Question 33 - Retrieve the row with minimum white_blood_cell count using sorting technique.\n",
    "x = pd.DataFrame(df_labs)\n",
    "#print(x)\n",
    "print(x.white_blood_cell.min())\n",
    "print(x[x.white_blood_cell == x.white_blood_cell.min()])"
   ]
  },
  {
   "cell_type": "code",
   "execution_count": 5,
   "id": "8abb2cd6-83cd-4753-8d1a-5694bfa6883e",
   "metadata": {},
   "outputs": [
    {
     "name": "stdin",
     "output_type": "stream",
     "text": [
      "Please enter the sentence to be reversed This hackathon is about cardiac outcomes\n"
     ]
    },
    {
     "name": "stdout",
     "output_type": "stream",
     "text": [
      "outcomes cardiac about is hackathon This\n"
     ]
    }
   ],
   "source": [
    "#Question 35 - find the way to reverse string for given input\n",
    "def reverse_sentence(sentence):\n",
    "    words = sentence.split(\" \")\n",
    "    rev_sentence = \" \".join(reversed(words))\n",
    "    #return \" \".join(reversed(words))\n",
    "    return rev_sentence\n",
    "sentence = input(\"Please enter the sentence to be reversed\")\n",
    "final = reverse_sentence(sentence)\n",
    "print(final)"
   ]
  }
 ],
 "metadata": {
  "kernelspec": {
   "display_name": "Python 3 (ipykernel)",
   "language": "python",
   "name": "python3"
  },
  "language_info": {
   "codemirror_mode": {
    "name": "ipython",
    "version": 3
   },
   "file_extension": ".py",
   "mimetype": "text/x-python",
   "name": "python",
   "nbconvert_exporter": "python",
   "pygments_lexer": "ipython3",
   "version": "3.11.7"
  }
 },
 "nbformat": 4,
 "nbformat_minor": 5
}
