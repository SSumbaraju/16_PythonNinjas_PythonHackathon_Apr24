{
 "cells": [
  {
   "cell_type": "code",
   "execution_count": 1,
   "id": "b8cff886",
   "metadata": {},
   "outputs": [],
   "source": [
    "import pandas as pd\n",
    "import numpy as np\n",
    "import seaborn as sns\n",
    "import matplotlib.pyplot as plt\n",
    "import math\n",
    "import datetime\n",
    "from datetime import date,datetime\n",
    "import re\n",
    "from matplotlib import colors\n",
    "from matplotlib.ticker import PercentFormatter\n",
    "\n",
    "import warnings\n",
    "warnings.filterwarnings(\"ignore\")"
   ]
  },
  {
   "cell_type": "code",
   "execution_count": 6,
   "id": "1a5a5321",
   "metadata": {},
   "outputs": [],
   "source": [
    "#Reading the Dataset\n",
    "xls = pd.ExcelFile(\"Data/Cardiac_Outcomes.xlsx\")\n",
    "#Reading the Hospitalization Discharge sheet\n",
    "df_HD =pd.read_excel(xls,\"Hospitalization_Discharge\")\n",
    "#Reading the CardiacComplications sheet\n",
    "df_CC = pd.read_excel(xls, \"CardiacComplications\")\n",
    "#Reading the Responsiveness sheet\n",
    "df_R = pd.read_excel(xls, \"Responsivenes\")\n",
    "#Reading the PatientHistory sheet\n",
    "df_PH = pd.read_excel(xls, \"PatientHistory\")\n",
    "#Reading the Labs sheet\n",
    "df_L = pd.read_excel(xls, \"Labs\")\n",
    "#Reading the Demography sheet\n",
    "df_D = pd.read_excel(xls, \"Demography\")\n",
    "#Reading the patient_Prescriptions sheet\n",
    "df_PP = pd.read_excel(xls, \"Patient_Precriptions\")"
   ]
  },
  {
   "cell_type": "code",
   "execution_count": 7,
   "id": "235dff3a",
   "metadata": {},
   "outputs": [
    {
     "name": "stdout",
     "output_type": "stream",
     "text": [
      "   inpatient_number DestinationDischarge admission_ward admission_way  \\\n",
      "0            857781                 Home     Cardiology  NonEmergency   \n",
      "1            743087                 Home     Cardiology  NonEmergency   \n",
      "2            866418                 Home     Cardiology  NonEmergency   \n",
      "3            775928                 Home     Cardiology     Emergency   \n",
      "4            810128                 Home     Cardiology  NonEmergency   \n",
      "5            823318                 Home     Cardiology  NonEmergency   \n",
      "6            844094                 Home     Cardiology  NonEmergency   \n",
      "7            787530   HealthcareFacility     Cardiology     Emergency   \n",
      "8            795420                 Home     Cardiology  NonEmergency   \n",
      "9            829801                 Home     Cardiology  NonEmergency   \n",
      "\n",
      "  discharge_department  visit_times respiratory_support oxygen_inhalation  \\\n",
      "0           Cardiology            1                 NaN     OxygenTherapy   \n",
      "1           Cardiology            1                 NaN     OxygenTherapy   \n",
      "2           Cardiology            2                 NaN     OxygenTherapy   \n",
      "3           Cardiology            1                 NaN     OxygenTherapy   \n",
      "4           Cardiology            1                 NaN     OxygenTherapy   \n",
      "5           Cardiology            1                 NaN     OxygenTherapy   \n",
      "6           Cardiology            2                 NaN     OxygenTherapy   \n",
      "7           Cardiology            1                 NaN     OxygenTherapy   \n",
      "8           Cardiology            1                 NaN     OxygenTherapy   \n",
      "9           Cardiology            1                 NaN     OxygenTherapy   \n",
      "\n",
      "   dischargeDay Admission_date  ... death_within_28_days  \\\n",
      "0            11     2017-01-24  ...                    0   \n",
      "1             8     2017-05-05  ...                    0   \n",
      "2             5     2016-11-18  ...                    0   \n",
      "3            11     2017-10-02  ...                    0   \n",
      "4             5     2019-11-17  ...                    0   \n",
      "5             6     2017-08-13  ...                    0   \n",
      "6            10     2018-05-22  ...                    0   \n",
      "7            27     2017-09-11  ...                    0   \n",
      "8            20     2017-03-27  ...                    0   \n",
      "9             4     2018-01-30  ...                    0   \n",
      "\n",
      "   re_admission_within_28_days  death_within_3_months  \\\n",
      "0                            0                      0   \n",
      "1                            0                      0   \n",
      "2                            0                      0   \n",
      "3                            1                      0   \n",
      "4                            0                      0   \n",
      "5                            1                      0   \n",
      "6                            0                      0   \n",
      "7                            0                      0   \n",
      "8                            0                      0   \n",
      "9                            0                      0   \n",
      "\n",
      "   re_admission_within_3_months  death_within_6_months  \\\n",
      "0                             0                      0   \n",
      "1                             0                      0   \n",
      "2                             0                      0   \n",
      "3                             1                      0   \n",
      "4                             0                      0   \n",
      "5                             1                      0   \n",
      "6                             0                      0   \n",
      "7                             1                      0   \n",
      "8                             0                      0   \n",
      "9                             0                      0   \n",
      "\n",
      "   re_admission_within_6_months  time_of_death__days_from_admission  \\\n",
      "0                             0                                 NaN   \n",
      "1                             0                                 NaN   \n",
      "2                             0                                 NaN   \n",
      "3                             1                                 NaN   \n",
      "4                             0                                 NaN   \n",
      "5                             1                                 NaN   \n",
      "6                             0                                 NaN   \n",
      "7                             1                                 NaN   \n",
      "8                             0                                 NaN   \n",
      "9                             0                                 NaN   \n",
      "\n",
      "   readmission_time_days_from_admission  \\\n",
      "0                                   NaN   \n",
      "1                                   NaN   \n",
      "2                                   NaN   \n",
      "3                                  19.0   \n",
      "4                                   NaN   \n",
      "5                                  15.0   \n",
      "6                                   NaN   \n",
      "7                                  58.0   \n",
      "8                                   NaN   \n",
      "9                                   NaN   \n",
      "\n",
      "   return_to_emergency_department_within_6_months  \\\n",
      "0                                             0.0   \n",
      "1                                             0.0   \n",
      "2                                             0.0   \n",
      "3                                             1.0   \n",
      "4                                             0.0   \n",
      "5                                             1.0   \n",
      "6                                             0.0   \n",
      "7                                             1.0   \n",
      "8                                             0.0   \n",
      "9                                             1.0   \n",
      "\n",
      "   time_to_emergency_department_within_6_months  \n",
      "0                                           NaN  \n",
      "1                                           NaN  \n",
      "2                                           NaN  \n",
      "3                                          19.0  \n",
      "4                                           NaN  \n",
      "5                                          15.0  \n",
      "6                                           NaN  \n",
      "7                                          58.0  \n",
      "8                                           NaN  \n",
      "9                                           NaN  \n",
      "\n",
      "[10 rows x 21 columns]\n"
     ]
    }
   ],
   "source": [
    "res = df_HD.head(10)\n",
    "print (res)"
   ]
  },
  {
   "cell_type": "code",
   "execution_count": 16,
   "id": "6a15968e",
   "metadata": {
    "scrolled": true
   },
   "outputs": [
    {
     "name": "stdout",
     "output_type": "stream",
     "text": [
      "      inpatient_number gender\n",
      "0               857781   Male\n",
      "2               866418   Male\n",
      "3               775928   Male\n",
      "6               844094   Male\n",
      "12              802296   Male\n",
      "...                ...    ...\n",
      "1994            816947   Male\n",
      "1997            750447   Male\n",
      "2001            726701   Male\n",
      "2005            781004   Male\n",
      "2006            744870   Male\n",
      "\n",
      "[845 rows x 2 columns]\n"
     ]
    }
   ],
   "source": [
    "#49.Connect to sql and write a query to find all patients who have a gender of 'Male' ( Attach screenshots for this question)\n",
    "r = df_D.loc[df_D['gender'] == \"Male\"]\n",
    "print(r.loc[:, 'inpatient_number':'gender'])\n"
   ]
  },
  {
   "cell_type": "code",
   "execution_count": 26,
   "id": "d60ecf91",
   "metadata": {},
   "outputs": [
    {
     "name": "stdout",
     "output_type": "stream",
     "text": [
      "198\n",
      "|     |   inpatient_number |   body_temperature |   pulse |   respiration |   systolic_blood_pressure |   diastolic_blood_pressure |   map |   fio2 |   creatinine_enzymatic_method |   urea |   uric_acid |   glomerular_filtration_rate |   cystatin |   white_blood_cell |   monocyte_ratio |   monocyte_count |   red_blood_cell |   coefficient_of_variation_of_red_blood_cell_distribution_width |   standard_deviation_of_red_blood_cell_distribution_width |   mean_corpuscular_volume |   hematocrit |   lymphocyte_count |   mean_hemoglobin_volume |   mean_hemoglobin_concentration |   mean_platelet_volume |   basophil_ratio |   basophil_count |   eosinophil_ratio |   eosinophil_count |   hemoglobin |   platelet |   platelet_distribution_width |   platelet_hematocrit |   neutrophil_ratio |   neutrophil_count |   D_dimer |   international_normalized_ratio |   activated_partial_thromboplastin_time |   thrombin_time |   prothrombin_activity |   prothrombin_time_ratio |   fibrinogen |   high_sensitivity_troponin |   myoglobin |   carbon_dioxide_binding_capacity |   calcium |   potassium |   chloride |   sodium |   Inorganic_Phosphorus |   serum_magnesium |   creatine_kinase_isoenzyme_to_creatine_kinase |   hydroxybutyrate_dehydrogenase_to_lactate_dehydrogenase |   hydroxybutyrate_dehydrogenase |   glutamic_oxaloacetic_transaminase |   creatine_kinase |   creatine_kinase_isoenzyme |   lactate_dehydrogenase |   brain_natriuretic_peptide |   high_sensitivity_protein |   nucleotidase |   fucosidase |   albumin |   white_globulin_ratio |   cholinesterase |   glutamyltranspeptidase |   glutamic_pyruvic_transaminase |   glutamic_oxaliplatin |   indirect_bilirubin |   alkaline_phosphatase |   globulin |   direct_bilirubin |   total_bilirubin |   total_bile_acid |   total_protein |   erythrocyte_sedimentation_rate |   cholesterol |   low_density_lipoprotein_cholesterol |   triglyceride |   high_density_lipoprotein_cholesterol |   homocysteine |   apolipoprotein_A |   apolipoprotein_B |   lipoprotein |   pH |   standard_residual_base |   standard_bicarbonate |   partial_pressure_of_carbon_dioxide |   total_carbon_dioxide |   methemoglobin |   hematocrit_blood_gas |   reduced_hemoglobin |   potassium_ion |   chloride_ion |   sodium_ion |   glucose_blood_gas |   lactate |   measured_residual_base |   measured_bicarbonate |   carboxyhemoglobin |   body_temperature_blood_gas |   oxygen_saturation |   partial_oxygen_pressure |   oxyhemoglobin |   anion_gap |   free_calcium |   total_hemoglobin |\n",
      "|----:|-------------------:|-------------------:|--------:|--------------:|--------------------------:|---------------------------:|------:|-------:|------------------------------:|-------:|------------:|-----------------------------:|-----------:|-------------------:|-----------------:|-----------------:|-----------------:|----------------------------------------------------------------:|----------------------------------------------------------:|--------------------------:|-------------:|-------------------:|-------------------------:|--------------------------------:|-----------------------:|-----------------:|-----------------:|-------------------:|-------------------:|-------------:|-----------:|------------------------------:|----------------------:|-------------------:|-------------------:|----------:|---------------------------------:|----------------------------------------:|----------------:|-----------------------:|-------------------------:|-------------:|----------------------------:|------------:|----------------------------------:|----------:|------------:|-----------:|---------:|-----------------------:|------------------:|-----------------------------------------------:|---------------------------------------------------------:|--------------------------------:|------------------------------------:|------------------:|----------------------------:|------------------------:|----------------------------:|---------------------------:|---------------:|-------------:|----------:|-----------------------:|-----------------:|-------------------------:|--------------------------------:|-----------------------:|---------------------:|-----------------------:|-----------:|-------------------:|------------------:|------------------:|----------------:|---------------------------------:|--------------:|--------------------------------------:|---------------:|---------------------------------------:|---------------:|-------------------:|-------------------:|--------------:|-----:|-------------------------:|-----------------------:|-------------------------------------:|-----------------------:|----------------:|-----------------------:|---------------------:|----------------:|---------------:|-------------:|--------------------:|----------:|-------------------------:|-----------------------:|--------------------:|-----------------------------:|--------------------:|--------------------------:|----------------:|------------:|---------------:|-------------------:|\n",
      "| 457 |             756996 |                 36 |     198 |            19 |                       105 |                         69 |    81 |     33 |                          64.3 |   4.78 |         354 |                        74.09 |       1.82 |                4.1 |            0.047 |             0.19 |              4.3 |                                                            17.5 |                                                      53.2 |                      86.8 |        0.374 |               0.41 |                     27.9 |                             321 |                   15.1 |            0.003 |             0.01 |              0.003 |               0.01 |          120 |         79 |                          15.5 |                 0.118 |              0.848 |               3.48 |     18.23 |                              1.1 |                                    26.2 |            17.2 |                   81.1 |                     1.11 |         2.08 |                       0.066 |         nan |                              29.5 |      2.12 |        3.76 |       92.5 |    133.4 |                    nan |               nan |                                            nan |                                                      nan |                             nan |                                 nan |               nan |                         nan |                     nan |                     1764.08 |                        nan |            5.3 |         21.1 |        30 |                      1 |              nan |                      205 |                              19 |                    nan |                  7.4 |                    148 |       31.2 |                4.8 |              12.2 |                 5 |            61.2 |                              nan |          5.03 |                                   2.2 |           1.06 |                                    1.2 |            nan |                nan |                nan |           nan | 7.48 |                      1.2 |                     26 |                                   34 |                   25.9 |               0 |                     39 |                  1.6 |            3.76 |             97 |        130.5 |                 4.7 |       2.3 |                      1.7 |                   24.8 |                 0.8 |                           37 |                  98 |                       125 |            97.6 |        12.5 |           1.07 |                132 |\n"
     ]
    }
   ],
   "source": [
    "#50.Display the lab details of the patient with maximum pulse using the .loc\n",
    "Pulse = df_L['pulse']\n",
    "var_Pulse = Pulse.max()\n",
    "print(var_Pulse)\n",
    "r = df_L.loc[df_L['pulse'] == var_Pulse]\n",
    "print(r.to_markdown())\n"
   ]
  },
  {
   "cell_type": "code",
   "execution_count": null,
   "id": "ea867a73",
   "metadata": {},
   "outputs": [],
   "source": [
    "#51.Display a violin chart to show distribution of Pulse Rate against age.\n"
   ]
  }
 ],
 "metadata": {
  "kernelspec": {
   "display_name": "Python 3 (ipykernel)",
   "language": "python",
   "name": "python3"
  },
  "language_info": {
   "codemirror_mode": {
    "name": "ipython",
    "version": 3
   },
   "file_extension": ".py",
   "mimetype": "text/x-python",
   "name": "python",
   "nbconvert_exporter": "python",
   "pygments_lexer": "ipython3",
   "version": "3.11.7"
  }
 },
 "nbformat": 4,
 "nbformat_minor": 5
}
