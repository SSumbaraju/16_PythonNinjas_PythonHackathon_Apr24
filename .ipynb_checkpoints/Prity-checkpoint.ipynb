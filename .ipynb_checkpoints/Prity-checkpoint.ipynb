{
 "cells": [
  {
   "cell_type": "code",
   "execution_count": 1,
   "id": "9ae29c71-c159-4bff-a60d-e42a9fce4804",
   "metadata": {},
   "outputs": [
    {
     "name": "stdout",
     "output_type": "stream",
     "text": [
      "Requirement already satisfied: pandas[excel] in c:\\users\\prity\\anaconda3\\lib\\site-packages (2.1.4)\n",
      "Requirement already satisfied: numpy<2,>=1.23.2 in c:\\users\\prity\\anaconda3\\lib\\site-packages (from pandas[excel]) (1.26.4)\n",
      "Requirement already satisfied: python-dateutil>=2.8.2 in c:\\users\\prity\\anaconda3\\lib\\site-packages (from pandas[excel]) (2.8.2)\n",
      "Requirement already satisfied: pytz>=2020.1 in c:\\users\\prity\\anaconda3\\lib\\site-packages (from pandas[excel]) (2023.3.post1)\n",
      "Requirement already satisfied: tzdata>=2022.1 in c:\\users\\prity\\anaconda3\\lib\\site-packages (from pandas[excel]) (2023.3)\n",
      "Requirement already satisfied: odfpy>=1.4.1 in c:\\users\\prity\\anaconda3\\lib\\site-packages (from pandas[excel]) (1.4.1)\n",
      "Requirement already satisfied: openpyxl>=3.0.10 in c:\\users\\prity\\anaconda3\\lib\\site-packages (from pandas[excel]) (3.0.10)\n",
      "Requirement already satisfied: pyxlsb>=1.0.9 in c:\\users\\prity\\anaconda3\\lib\\site-packages (from pandas[excel]) (1.0.10)\n",
      "Requirement already satisfied: xlrd>=2.0.1 in c:\\users\\prity\\anaconda3\\lib\\site-packages (from pandas[excel]) (2.0.1)\n",
      "Requirement already satisfied: xlsxwriter>=3.0.3 in c:\\users\\prity\\anaconda3\\lib\\site-packages (from pandas[excel]) (3.2.0)\n",
      "Requirement already satisfied: defusedxml in c:\\users\\prity\\anaconda3\\lib\\site-packages (from odfpy>=1.4.1->pandas[excel]) (0.7.1)\n",
      "Requirement already satisfied: et_xmlfile in c:\\users\\prity\\anaconda3\\lib\\site-packages (from openpyxl>=3.0.10->pandas[excel]) (1.1.0)\n",
      "Requirement already satisfied: six>=1.5 in c:\\users\\prity\\anaconda3\\lib\\site-packages (from python-dateutil>=2.8.2->pandas[excel]) (1.16.0)\n",
      "Requirement already satisfied: numpy in c:\\users\\prity\\anaconda3\\lib\\site-packages (1.26.4)\n",
      "Requirement already satisfied: seaborn in c:\\users\\prity\\anaconda3\\lib\\site-packages (0.12.2)\n",
      "Requirement already satisfied: numpy!=1.24.0,>=1.17 in c:\\users\\prity\\anaconda3\\lib\\site-packages (from seaborn) (1.26.4)\n",
      "Requirement already satisfied: pandas>=0.25 in c:\\users\\prity\\anaconda3\\lib\\site-packages (from seaborn) (2.1.4)\n",
      "Requirement already satisfied: matplotlib!=3.6.1,>=3.1 in c:\\users\\prity\\anaconda3\\lib\\site-packages (from seaborn) (3.7.1)\n",
      "Requirement already satisfied: contourpy>=1.0.1 in c:\\users\\prity\\anaconda3\\lib\\site-packages (from matplotlib!=3.6.1,>=3.1->seaborn) (1.2.0)\n",
      "Requirement already satisfied: cycler>=0.10 in c:\\users\\prity\\anaconda3\\lib\\site-packages (from matplotlib!=3.6.1,>=3.1->seaborn) (0.11.0)\n",
      "Requirement already satisfied: fonttools>=4.22.0 in c:\\users\\prity\\anaconda3\\lib\\site-packages (from matplotlib!=3.6.1,>=3.1->seaborn) (4.25.0)\n",
      "Requirement already satisfied: kiwisolver>=1.0.1 in c:\\users\\prity\\anaconda3\\lib\\site-packages (from matplotlib!=3.6.1,>=3.1->seaborn) (1.4.4)\n",
      "Requirement already satisfied: packaging>=20.0 in c:\\users\\prity\\anaconda3\\lib\\site-packages (from matplotlib!=3.6.1,>=3.1->seaborn) (23.1)\n",
      "Requirement already satisfied: pillow>=6.2.0 in c:\\users\\prity\\anaconda3\\lib\\site-packages (from matplotlib!=3.6.1,>=3.1->seaborn) (10.2.0)\n",
      "Requirement already satisfied: pyparsing>=2.3.1 in c:\\users\\prity\\anaconda3\\lib\\site-packages (from matplotlib!=3.6.1,>=3.1->seaborn) (3.0.9)\n",
      "Requirement already satisfied: python-dateutil>=2.7 in c:\\users\\prity\\anaconda3\\lib\\site-packages (from matplotlib!=3.6.1,>=3.1->seaborn) (2.8.2)\n",
      "Requirement already satisfied: pytz>=2020.1 in c:\\users\\prity\\anaconda3\\lib\\site-packages (from pandas>=0.25->seaborn) (2023.3.post1)\n",
      "Requirement already satisfied: tzdata>=2022.1 in c:\\users\\prity\\anaconda3\\lib\\site-packages (from pandas>=0.25->seaborn) (2023.3)\n",
      "Requirement already satisfied: six>=1.5 in c:\\users\\prity\\anaconda3\\lib\\site-packages (from python-dateutil>=2.7->matplotlib!=3.6.1,>=3.1->seaborn) (1.16.0)\n",
      "Requirement already satisfied: matplotlib==3.7.1 in c:\\users\\prity\\anaconda3\\lib\\site-packages (3.7.1)\n",
      "Requirement already satisfied: contourpy>=1.0.1 in c:\\users\\prity\\anaconda3\\lib\\site-packages (from matplotlib==3.7.1) (1.2.0)\n",
      "Requirement already satisfied: cycler>=0.10 in c:\\users\\prity\\anaconda3\\lib\\site-packages (from matplotlib==3.7.1) (0.11.0)\n",
      "Requirement already satisfied: fonttools>=4.22.0 in c:\\users\\prity\\anaconda3\\lib\\site-packages (from matplotlib==3.7.1) (4.25.0)\n",
      "Requirement already satisfied: kiwisolver>=1.0.1 in c:\\users\\prity\\anaconda3\\lib\\site-packages (from matplotlib==3.7.1) (1.4.4)\n",
      "Requirement already satisfied: numpy>=1.20 in c:\\users\\prity\\anaconda3\\lib\\site-packages (from matplotlib==3.7.1) (1.26.4)\n",
      "Requirement already satisfied: packaging>=20.0 in c:\\users\\prity\\anaconda3\\lib\\site-packages (from matplotlib==3.7.1) (23.1)\n",
      "Requirement already satisfied: pillow>=6.2.0 in c:\\users\\prity\\anaconda3\\lib\\site-packages (from matplotlib==3.7.1) (10.2.0)\n",
      "Requirement already satisfied: pyparsing>=2.3.1 in c:\\users\\prity\\anaconda3\\lib\\site-packages (from matplotlib==3.7.1) (3.0.9)\n",
      "Requirement already satisfied: python-dateutil>=2.7 in c:\\users\\prity\\anaconda3\\lib\\site-packages (from matplotlib==3.7.1) (2.8.2)\n",
      "Requirement already satisfied: six>=1.5 in c:\\users\\prity\\anaconda3\\lib\\site-packages (from python-dateutil>=2.7->matplotlib==3.7.1) (1.16.0)\n"
     ]
    }
   ],
   "source": [
    "!pip install \"pandas[excel]\"\n",
    "!pip install numpy\n",
    "!pip install seaborn\n",
    "!pip install matplotlib==3.7.1\n"
   ]
  },
  {
   "cell_type": "code",
   "execution_count": 6,
   "id": "a6244826-dfe5-43a9-b863-9cd53d13e5bf",
   "metadata": {},
   "outputs": [],
   "source": [
    "import pandas as pd\n",
    "import numpy as np\n",
    "import seaborn as sns\n",
    "import matplotlib.pyplot as plt\n",
    "\n",
    "#from pywaffle import Waffle\n",
    "import matplotlib.pyplot as plt\n",
    "\n",
    "import math\n",
    "import datetime\n",
    "from datetime import date,datetime\n",
    "from datetime import timedelta\n",
    "import re\n",
    "from matplotlib import colors\n",
    "from matplotlib.ticker import PercentFormatter\n",
    "#import missingno as msno\n",
    "\n",
    "import warnings\n",
    "warnings.filterwarnings(\"ignore\")\n",
    "\n"
   ]
  },
  {
   "cell_type": "code",
   "execution_count": 7,
   "id": "afaf20cc",
   "metadata": {},
   "outputs": [],
   "source": [
    "#Reading the Dataset\n",
    "xls = pd.ExcelFile('Cardiac_Outcomes.xlsx')\n",
    "#Reading the Hospitalization_Discharge sheet\n",
    "df_HD = pd.read_excel(xls, 'Hospitalization_Discharge')\n",
    "#Reading the CardiacComplications sheet\n",
    "df_CC = pd.read_excel(xls, 'CardiacComplications')\n",
    "#Reading the Responsivenes sheet\n",
    "df_R= pd.read_excel(xls, 'Responsivenes')\n",
    "#Reading the PatientHistory sheet\n",
    "df_PH = pd.read_excel(xls, 'PatientHistory')\n",
    "#Reading the Labs sheet\n",
    "df_L = pd.read_excel(xls, 'Labs')\n",
    "#Reading the Demography sheet\n",
    "df_D = pd.read_excel(xls, 'Demography')\n",
    "#Reading the Patient_Precriptions sheet\n",
    "df_PP = pd.read_excel(xls, 'Patient_Precriptions')"
   ]
  },
  {
   "cell_type": "markdown",
   "id": "222cedbb",
   "metadata": {},
   "source": [
    "# Q17 Using arrays and loops find the number of patients who were Admitted in the month of November"
   ]
  },
  {
   "cell_type": "code",
   "execution_count": 8,
   "id": "7bd51c0c-1e07-4b1a-980d-b9f811f54fbf",
   "metadata": {},
   "outputs": [
    {
     "name": "stdout",
     "output_type": "stream",
     "text": [
      "Number patients addmitted in month of November: 195\n"
     ]
    }
   ],
   "source": [
    "count = 0\n",
    "for addmissionDate in pd.to_datetime(df_HD[\"Admission_date\"]):\n",
    "    if (addmissionDate.month == 11): # 11 is November month\n",
    "        count = count + 1\n",
    "\n",
    "print('Number patients addmitted in month of November: {}'.format(count))\n"
   ]
  },
  {
   "cell_type": "markdown",
   "id": "567ade4c",
   "metadata": {},
   "source": [
    "# Q18\tCreate a heatmap on any columns of your choice including at least 1 lab value"
   ]
  },
  {
   "cell_type": "markdown",
   "id": "d8ef3972-4cb6-4e26-bc40-5c1ca31bbd86",
   "metadata": {},
   "source": [
    "# Q19\tCreate a bar chart by making list on Avg BMI and occupation column (with no duplicates) & make the hatchs onto the bar by using set_hatch() method"
   ]
  },
  {
   "cell_type": "markdown",
   "id": "f8e65733",
   "metadata": {},
   "source": [
    "# Q20\tYou are given three integers x,y,z representing the dimensions of a cuboid along with an integer n.  \n",
    "Print a list of all possible coordinates given by(i,j,k) on a 3D grid where the sum of i,j,k is not equal to n.  \n",
    "x=1, y=1, z=2, n=3\n",
    "\n"
   ]
  },
  {
   "cell_type": "markdown",
   "id": "4f6dad19",
   "metadata": {},
   "source": [
    "# Q21\tGiven the names and grades for each student in a class of students, store them in a nested list and print the name(s) of any student(s) having the second lowest grade.\n",
    "python_students = [['Harry', 37.21], ['Berry', 37.21], ['Tina', 37.2], ['Akriti', 41], ['Harsh', 39]]"
   ]
  },
  {
   "cell_type": "code",
   "execution_count": 9,
   "id": "6155e322-ee16-4752-bb22-9a97e8b37ccf",
   "metadata": {},
   "outputs": [
    {
     "name": "stdout",
     "output_type": "stream",
     "text": [
      "Sorted Array: [['Tina', 37.2], ['Harry', 37.21], ['Berry', 37.21], ['Harsh', 39], ['Akriti', 41]]\n",
      "Second lowest grade: 37.21\n",
      "Students with second lowest grade: Harry\n",
      "Students with second lowest grade: Berry\n"
     ]
    }
   ],
   "source": [
    "python_students = [['Harry', 37.21], ['Berry', 37.21], ['Tina', 37.2], ['Akriti', 41], ['Harsh', 39]]\n",
    "python_students.sort(key = lambda x: x[1])\n",
    "print('Sorted Array: {}'.format(python_students))\n",
    "print('Second lowest grade: {}'.format(python_students[2][1]))\n",
    "\n",
    "gradeValue = python_students[2][1]\n",
    "for student_grade in python_students:\n",
    "    if (student_grade[1] == gradeValue):\n",
    "        print('Students with second lowest grade: {}'.format(student_grade[0]))\n"
   ]
  },
  {
   "cell_type": "markdown",
   "id": "82b95beb",
   "metadata": {},
   "source": [
    "# Q22\tWhich patient was on the most number of prescribed drugs? What was his age and outcome?"
   ]
  },
  {
   "cell_type": "code",
   "execution_count": 10,
   "id": "3001472f-3073-48f0-a187-e8d3985d4c1a",
   "metadata": {},
   "outputs": [
    {
     "name": "stdout",
     "output_type": "stream",
     "text": [
      "Patient with max durgs: 777204\n",
      "Patient age: 79-89\n",
      "Patient outcome during hospitalization: Alive\n"
     ]
    }
   ],
   "source": [
    "patient_with_max_drugs = df_PP['inpatient_number'].value_counts().idxmax()\n",
    "patient_age = df_D[df_D['inpatient_number']==patient_with_max_drugs]['ageCat'].values[0]\n",
    "patient_outcome = df_HD[df_HD['inpatient_number']==patient_with_max_drugs]['outcome_during_hospitalization'].values[0]\n",
    "\n",
    "print('Patient with max durgs: {}'.format(patient_with_max_drugs))\n",
    "print('Patient age: {}'.format(patient_age))\n",
    "print('Patient outcome during hospitalization: {}'.format(patient_outcome))\n"
   ]
  },
  {
   "cell_type": "markdown",
   "id": "8a7e074e",
   "metadata": {},
   "source": [
    "# Q23\tHow many patients were prescribed Digoxin?"
   ]
  },
  {
   "cell_type": "code",
   "execution_count": 14,
   "id": "ecc39e88-6c4d-4d99-be63-4f96a0119cc6",
   "metadata": {},
   "outputs": [
    {
     "name": "stdout",
     "output_type": "stream",
     "text": [
      "patients were prescribed Digoxin: 999\n"
     ]
    }
   ],
   "source": [
    "print('patients were prescribed Digoxin: {}'.format(df_PP[df_PP['Drug_name'].str.contains('Digoxin')].shape[0]))"
   ]
  },
  {
   "cell_type": "markdown",
   "id": "00dfb512",
   "metadata": {},
   "source": [
    "# Q24\tWhat columns indicate a prescence of anemia? Create a severity score for anemia and prove or disprove a correlation to Length of stay"
   ]
  },
  {
   "cell_type": "markdown",
   "id": "6811a5af",
   "metadata": {},
   "source": [
    "# Q25\tUsing GCS score, how many patients are considered to be in a coma?"
   ]
  },
  {
   "cell_type": "code",
   "execution_count": 12,
   "id": "75ea635f-e3fb-414d-b84d-cea295f94c1c",
   "metadata": {},
   "outputs": [
    {
     "name": "stdout",
     "output_type": "stream",
     "text": [
      "Coma GCS score: 15\n",
      "Number of patients in coma: 1951\n"
     ]
    }
   ],
   "source": [
    "coma_gcs_score = 15\n",
    "patients_in_coma = df_R[df_R['GCS'] == coma_gcs_score].shape[0];\n",
    "print('Coma GCS score: {}'.format(coma_gcs_score))\n",
    "print('Number of patients in coma: {}'.format(patients_in_coma))"
   ]
  },
  {
   "cell_type": "markdown",
   "id": "6358e73a",
   "metadata": {},
   "source": [
    "# Q26\tCreate a column that randomly generates an age between the age group given for each patient. What was the average age of the patients?"
   ]
  },
  {
   "cell_type": "markdown",
   "id": "53858d3d",
   "metadata": {},
   "source": [
    "\n",
    "# Q27\tUsing the age column generated in Q.26, calculate year of birth for each patient"
   ]
  },
  {
   "cell_type": "markdown",
   "id": "9e90f78b",
   "metadata": {},
   "source": [
    "# Q28\tStore patient number and gender in a dictionary as a pair of values. Show the first 10 values\n"
   ]
  },
  {
   "cell_type": "markdown",
   "id": "34859a3f",
   "metadata": {},
   "source": [
    "# Q29\tWhat percentage of those in a coma also have diabetes?"
   ]
  },
  {
   "cell_type": "code",
   "execution_count": 13,
   "id": "1fa4032d-0bab-42c8-ba65-f06b34b1d034",
   "metadata": {},
   "outputs": [
    {
     "name": "stdout",
     "output_type": "stream",
     "text": [
      "Number of patients in coma with diabetes: 456\n",
      "Percentage of patients in coma with diabetes: 23.37262942080984\n"
     ]
    }
   ],
   "source": [
    "df_coma_diabetes =  pd.merge(df_R[df_R['GCS'] == coma_gcs_score], df_PH[df_PH['diabetes']==1], on=['inpatient_number'])\n",
    "diabetes_count_in_coma = df_coma_diabetes.shape[0]\n",
    "print('Number of patients in coma with diabetes: {}'.format(diabetes_count_in_coma))\n",
    "print('Percentage of patients in coma with diabetes: {}'.format((diabetes_count_in_coma/patients_in_coma)*100))"
   ]
  },
  {
   "cell_type": "markdown",
   "id": "d4251ff1",
   "metadata": {},
   "source": [
    "# Q30\tIdentify any columns relating to echocardiography and create a severity score for cardiac function. Compare this outcome and show average severity score for each outcome"
   ]
  },
  {
   "cell_type": "markdown",
   "id": "7befa3b7",
   "metadata": {},
   "source": [
    "# Q31\tGroup the days to re-admission into bins and count how many patients were in each bin"
   ]
  },
  {
   "cell_type": "markdown",
   "id": "df962311-e522-4ca6-aa28-8f3025aeeb45",
   "metadata": {},
   "source": [
    "# Q31\tGroup the days to re-admission into bins and count how many patients were in each bin"
   ]
  },
  {
   "cell_type": "markdown",
   "id": "9569f18a-5e04-4a7b-9418-d1f9dbf8d0ba",
   "metadata": {},
   "source": [
    "# Q32\tCombine admission_ward & admission_way and count the patients under the new group. Create a pie chart and explode the biggest wedge"
   ]
  },
  {
   "cell_type": "markdown",
   "id": "a45904ef-0fab-4c65-8c07-fa4826d290ab",
   "metadata": {},
   "source": [
    "# Q33\tRetrieve the row with minimum white_blood_cell count using sorting technique."
   ]
  },
  {
   "cell_type": "markdown",
   "id": "a5b179ae-34fe-40d4-ab49-bf48791360ba",
   "metadata": {},
   "source": [
    "# Q34\tget the last letter of discharge_department of patients using RegEX"
   ]
  }
 ],
 "metadata": {
  "kernelspec": {
   "display_name": "Python 3 (ipykernel)",
   "language": "python",
   "name": "python3"
  },
  "language_info": {
   "codemirror_mode": {
    "name": "ipython",
    "version": 3
   },
   "file_extension": ".py",
   "mimetype": "text/x-python",
   "name": "python",
   "nbconvert_exporter": "python",
   "pygments_lexer": "ipython3",
   "version": "3.11.7"
  }
 },
 "nbformat": 4,
 "nbformat_minor": 5
}
