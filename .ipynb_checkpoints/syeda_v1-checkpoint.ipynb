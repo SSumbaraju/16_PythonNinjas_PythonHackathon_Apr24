{
 "cells": [
  {
   "cell_type": "code",
   "execution_count": 2,
   "id": "d5160366",
   "metadata": {},
   "outputs": [],
   "source": [
    "import pandas as pd\n",
    "import numpy as np\n",
    "import seaborn as sns\n",
    "import matplotlib.pyplot as plt\n",
    "import math\n",
    "import datetime\n",
    "from datetime import date,datetime\n",
    "import re\n",
    "from matplotlib import colors\n",
    "from matplotlib.ticker import PercentFormatter\n",
    "\n",
    "import warnings\n",
    "warnings.filterwarnings(\"ignore\")"
   ]
  },
  {
   "cell_type": "code",
   "execution_count": 5,
   "id": "afaf20cc",
   "metadata": {},
   "outputs": [],
   "source": [
    "#Reading the Dataset\n",
    "xls = pd.ExcelFile('Cardiac_Outcomes.xlsx')\n",
    "#Reading the Hospitalization_Discharge sheet\n",
    "df_HD = pd.read_excel(xls, 'Hospitalization_Discharge')\n",
    "#Reading the CardiacComplications sheet\n",
    "df_CC = pd.read_excel(xls, 'CardiacComplications')\n",
    "#Reading the Responsivenes sheet\n",
    "df_R= pd.read_excel(xls, 'Responsivenes')\n",
    "#Reading the PatientHistory sheet\n",
    "df_PH = pd.read_excel(xls, 'PatientHistory')\n",
    "#Reading the Labs sheet\n",
    "df_L = pd.read_excel(xls, 'Labs')\n",
    "#Reading the Demography sheet\n",
    "df_D = pd.read_excel(xls, 'Demography')\n",
    "#Reading the Patient_Precriptions sheet\n",
    "df_PP = pd.read_excel(xls, 'Patient_Precriptions')"
   ]
  },
  {
   "cell_type": "markdown",
   "id": "222cedbb",
   "metadata": {},
   "source": [
    "# Q1 How many patients were registered in each unique occupation?"
   ]
  },
  {
   "cell_type": "code",
   "execution_count": 7,
   "id": "4e8de9cb",
   "metadata": {},
   "outputs": [
    {
     "data": {
      "text/plain": [
       "occupation\n",
       "Officer             7\n",
       "Others             89\n",
       "UrbanResident    1670\n",
       "farmer            198\n",
       "worker             17\n",
       "Name: inpatient_number, dtype: int64"
      ]
     },
     "execution_count": 7,
     "metadata": {},
     "output_type": "execute_result"
    }
   ],
   "source": [
    "df_D.groupby([\"occupation\"])[\"inpatient_number\"].count()"
   ]
  },
  {
   "cell_type": "code",
   "execution_count": null,
   "id": "fd0fbd68",
   "metadata": {},
   "outputs": [],
   "source": []
  }
 ],
 "metadata": {
  "kernelspec": {
   "display_name": "Python 3 (ipykernel)",
   "language": "python",
   "name": "python3"
  },
  "language_info": {
   "codemirror_mode": {
    "name": "ipython",
    "version": 3
   },
   "file_extension": ".py",
   "mimetype": "text/x-python",
   "name": "python",
   "nbconvert_exporter": "python",
   "pygments_lexer": "ipython3",
   "version": "3.10.9"
  }
 },
 "nbformat": 4,
 "nbformat_minor": 5
}
