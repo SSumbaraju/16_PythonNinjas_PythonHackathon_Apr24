{
 "cells": [
  {
   "cell_type": "code",
   "execution_count": 1,
   "id": "a3ba915b-0d31-47e8-8f23-e76e2da1c9b7",
   "metadata": {},
   "outputs": [],
   "source": [
    "import pandas as pd\n",
    "import numpy as np\n",
    "import seaborn as sns\n",
    "import matplotlib.pyplot as plt\n",
    "import math\n",
    "import datetime\n",
    "from datetime import date,datetime\n",
    "import re\n",
    "from matplotlib import colors\n",
    "from matplotlib.ticker import PercentFormatter\n",
    "\n",
    "import warnings\n",
    "warnings.filterwarnings(\"ignore\")"
   ]
  },
  {
   "cell_type": "code",
   "execution_count": 2,
   "id": "60e1dd52-a1ff-49f7-9039-4d3208787b13",
   "metadata": {},
   "outputs": [],
   "source": [
    "#Reading the Dataset\n",
    "xls = pd.ExcelFile('Cardiac_Outcomes.xlsx')\n",
    "#Reading the Hospitalization_Discharge sheet\n",
    "df_HD = pd.read_excel(xls, 'Hospitalization_Discharge')\n",
    "#Reading the CardiacComplications sheet\n",
    "df_CC = pd.read_excel(xls, 'CardiacComplications')\n",
    "#Reading the Responsivenes sheet\n",
    "df_R= pd.read_excel(xls, 'Responsivenes')\n",
    "#Reading the PatientHistory sheet\n",
    "df_PH = pd.read_excel(xls, 'PatientHistory')\n",
    "#Reading the Labs sheet\n",
    "df_L = pd.read_excel(xls, 'Labs')\n",
    "#Reading the Demography sheet\n",
    "df_D = pd.read_excel(xls, 'Demography')\n",
    "#Reading the Patient_Precriptions sheet\n",
    "df_PP = pd.read_excel(xls, 'Patient_Precriptions')"
   ]
  },
  {
   "cell_type": "markdown",
   "id": "efc17511-f7b6-45ca-96b7-a6e574f7c1d4",
   "metadata": {},
   "source": [
    "## Q65. Which Admission Ward has maximum number of visits scheduled?"
   ]
  },
  {
   "cell_type": "code",
   "execution_count": 3,
   "id": "919d3a7a-4914-40d8-a255-3da047994638",
   "metadata": {},
   "outputs": [
    {
     "name": "stdout",
     "output_type": "stream",
     "text": [
      "The ward with maximum admission visits:  Cardiology 1547\n"
     ]
    }
   ],
   "source": [
    "visits = df_HD['admission_ward'].value_counts()\n",
    "print(\"The ward with maximum admission visits: \", visits.idxmax(), visits.max())"
   ]
  },
  {
   "cell_type": "markdown",
   "id": "609a6008-8f9f-49ac-a4f8-854d1d9eb006",
   "metadata": {},
   "source": [
    "## Q66. Display total count of patients in each discharge_department based on gender?"
   ]
  },
  {
   "cell_type": "code",
   "execution_count": 22,
   "id": "b9d11761-b21a-44dd-a409-b02538a26f7a",
   "metadata": {},
   "outputs": [
    {
     "name": "stdout",
     "output_type": "stream",
     "text": [
      "discharge_department  gender\n",
      "Cardiology            Female    993\n",
      "                      Male      710\n",
      "GeneralWard           Female    137\n",
      "                      Male      104\n",
      "Others                Female     28\n",
      "                      Male       24\n",
      "ICU                   Male        7\n",
      "                      Female      5\n",
      "Name: count, dtype: int64\n"
     ]
    }
   ],
   "source": [
    "# first, merged the Hospitalization_discharge and Demography sheets merged to get the discharge_department and gender\n",
    "# then extract the desired columns data\n",
    "\n",
    "join_hosdischarge_demography  = pd.merge(df_HD, df_D, on= 'inpatient_number', how = 'inner')\n",
    "#print(join_hosdischarge_demography )\n",
    "\n",
    "patients_by_gender = pd.DataFrame(join_hosdischarge_demography,columns =['discharge_department', 'gender']).value_counts()\n",
    "print(patients_by_gender)"
   ]
  },
  {
   "cell_type": "markdown",
   "id": "5d0c9697-1c95-4a32-8c2d-c3e8c46131ff",
   "metadata": {},
   "source": [
    "## Q67. How many Unique patients were precribed each type of medication?"
   ]
  },
  {
   "cell_type": "code",
   "execution_count": null,
   "id": "fb5dd804-af54-404f-876d-476fe9449e2e",
   "metadata": {},
   "outputs": [],
   "source": []
  },
  {
   "cell_type": "code",
   "execution_count": null,
   "id": "cf516a25-01f1-4a4e-9c6d-2b570eecb49c",
   "metadata": {},
   "outputs": [],
   "source": []
  },
  {
   "cell_type": "code",
   "execution_count": null,
   "id": "52540aee-4293-4249-9f34-ec42dc494e1c",
   "metadata": {},
   "outputs": [],
   "source": []
  }
 ],
 "metadata": {
  "kernelspec": {
   "display_name": "Python 3 (ipykernel)",
   "language": "python",
   "name": "python3"
  },
  "language_info": {
   "codemirror_mode": {
    "name": "ipython",
    "version": 3
   },
   "file_extension": ".py",
   "mimetype": "text/x-python",
   "name": "python",
   "nbconvert_exporter": "python",
   "pygments_lexer": "ipython3",
   "version": "3.11.7"
  }
 },
 "nbformat": 4,
 "nbformat_minor": 5
}
